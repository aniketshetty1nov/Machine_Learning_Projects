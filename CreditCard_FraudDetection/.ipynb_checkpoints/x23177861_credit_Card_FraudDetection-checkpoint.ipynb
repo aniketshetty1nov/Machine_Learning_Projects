{
 "cells": [
  {
   "cell_type": "code",
   "execution_count": 1,
   "id": "0fa25c36",
   "metadata": {},
   "outputs": [],
   "source": [
    "# Here I am importing necessary packages\n",
    "\n",
    "import numpy as np # linear algebra\n",
    "import pandas as pd # data processing, CSV file I/O (e.g. pd.read_csv)\n",
    "\n",
    "# For visualisation\n",
    "import seaborn as sns \n",
    "import matplotlib.pyplot as plt # plotting the graphs\n",
    "import math\n",
    "\n",
    "# for model \n",
    "import sklearn\n",
    "from sklearn.metrics import accuracy_score, precision_score, recall_score, f1_score, confusion_matrix, classification_report\n",
    "import warnings\n",
    "warnings.filterwarnings('ignore')"
   ]
  },
  {
   "cell_type": "code",
   "execution_count": 2,
   "id": "09b9a270",
   "metadata": {},
   "outputs": [],
   "source": [
    "from sklearn.tree import DecisionTreeClassifier\n",
    "from sklearn.ensemble import RandomForestClassifier,VotingClassifier, AdaBoostClassifier, GradientBoostingClassifier, BaggingClassifier\n",
    "from sklearn.svm import SVC\n",
    "from sklearn.svm import SVC\n",
    "from sklearn.neighbors import KNeighborsClassifier\n",
    "from sklearn.naive_bayes import GaussianNB"
   ]
  },
  {
   "cell_type": "markdown",
   "id": "e75ae51d",
   "metadata": {},
   "source": [
    "## Data Loading"
   ]
  },
  {
   "cell_type": "code",
   "execution_count": 3,
   "id": "6f7b8a6e",
   "metadata": {},
   "outputs": [
    {
     "data": {
      "text/html": [
       "<div>\n",
       "<style scoped>\n",
       "    .dataframe tbody tr th:only-of-type {\n",
       "        vertical-align: middle;\n",
       "    }\n",
       "\n",
       "    .dataframe tbody tr th {\n",
       "        vertical-align: top;\n",
       "    }\n",
       "\n",
       "    .dataframe thead th {\n",
       "        text-align: right;\n",
       "    }\n",
       "</style>\n",
       "<table border=\"1\" class=\"dataframe\">\n",
       "  <thead>\n",
       "    <tr style=\"text-align: right;\">\n",
       "      <th></th>\n",
       "      <th>Time</th>\n",
       "      <th>V1</th>\n",
       "      <th>V2</th>\n",
       "      <th>V3</th>\n",
       "      <th>V4</th>\n",
       "      <th>V5</th>\n",
       "      <th>V6</th>\n",
       "      <th>V7</th>\n",
       "      <th>V8</th>\n",
       "      <th>V9</th>\n",
       "      <th>...</th>\n",
       "      <th>V21</th>\n",
       "      <th>V22</th>\n",
       "      <th>V23</th>\n",
       "      <th>V24</th>\n",
       "      <th>V25</th>\n",
       "      <th>V26</th>\n",
       "      <th>V27</th>\n",
       "      <th>V28</th>\n",
       "      <th>Amount</th>\n",
       "      <th>Class</th>\n",
       "    </tr>\n",
       "  </thead>\n",
       "  <tbody>\n",
       "    <tr>\n",
       "      <th>0</th>\n",
       "      <td>0.0</td>\n",
       "      <td>-0.698044</td>\n",
       "      <td>-0.044198</td>\n",
       "      <td>1.681167</td>\n",
       "      <td>0.974523</td>\n",
       "      <td>-0.245693</td>\n",
       "      <td>0.347156</td>\n",
       "      <td>0.195166</td>\n",
       "      <td>0.083709</td>\n",
       "      <td>0.332076</td>\n",
       "      <td>...</td>\n",
       "      <td>-0.025289</td>\n",
       "      <td>0.383462</td>\n",
       "      <td>-0.177126</td>\n",
       "      <td>0.110510</td>\n",
       "      <td>0.246612</td>\n",
       "      <td>-0.392311</td>\n",
       "      <td>0.337487</td>\n",
       "      <td>-0.064181</td>\n",
       "      <td>149.62</td>\n",
       "      <td>0</td>\n",
       "    </tr>\n",
       "    <tr>\n",
       "      <th>1</th>\n",
       "      <td>0.0</td>\n",
       "      <td>0.611828</td>\n",
       "      <td>0.161626</td>\n",
       "      <td>0.110348</td>\n",
       "      <td>0.316899</td>\n",
       "      <td>0.043586</td>\n",
       "      <td>-0.061836</td>\n",
       "      <td>-0.064189</td>\n",
       "      <td>0.072178</td>\n",
       "      <td>-0.233160</td>\n",
       "      <td>...</td>\n",
       "      <td>-0.311883</td>\n",
       "      <td>-0.881473</td>\n",
       "      <td>0.162398</td>\n",
       "      <td>-0.561148</td>\n",
       "      <td>0.320729</td>\n",
       "      <td>0.261163</td>\n",
       "      <td>-0.022699</td>\n",
       "      <td>0.044887</td>\n",
       "      <td>2.69</td>\n",
       "      <td>0</td>\n",
       "    </tr>\n",
       "    <tr>\n",
       "      <th>2</th>\n",
       "      <td>1.0</td>\n",
       "      <td>-0.697298</td>\n",
       "      <td>-0.813846</td>\n",
       "      <td>1.175337</td>\n",
       "      <td>0.268550</td>\n",
       "      <td>-0.365429</td>\n",
       "      <td>1.351797</td>\n",
       "      <td>0.644689</td>\n",
       "      <td>0.210063</td>\n",
       "      <td>-1.382624</td>\n",
       "      <td>...</td>\n",
       "      <td>0.342582</td>\n",
       "      <td>1.065046</td>\n",
       "      <td>1.458087</td>\n",
       "      <td>-1.138128</td>\n",
       "      <td>-0.628605</td>\n",
       "      <td>-0.288550</td>\n",
       "      <td>-0.139870</td>\n",
       "      <td>-0.182155</td>\n",
       "      <td>378.66</td>\n",
       "      <td>0</td>\n",
       "    </tr>\n",
       "    <tr>\n",
       "      <th>3</th>\n",
       "      <td>1.0</td>\n",
       "      <td>-0.496026</td>\n",
       "      <td>-0.112483</td>\n",
       "      <td>1.188450</td>\n",
       "      <td>-0.610452</td>\n",
       "      <td>-0.007486</td>\n",
       "      <td>0.936388</td>\n",
       "      <td>0.193546</td>\n",
       "      <td>0.320117</td>\n",
       "      <td>-1.266119</td>\n",
       "      <td>...</td>\n",
       "      <td>-0.149605</td>\n",
       "      <td>0.007278</td>\n",
       "      <td>-0.305146</td>\n",
       "      <td>-1.941089</td>\n",
       "      <td>1.242039</td>\n",
       "      <td>-0.460383</td>\n",
       "      <td>0.158494</td>\n",
       "      <td>0.187356</td>\n",
       "      <td>123.50</td>\n",
       "      <td>0</td>\n",
       "    </tr>\n",
       "    <tr>\n",
       "      <th>4</th>\n",
       "      <td>2.0</td>\n",
       "      <td>-0.594568</td>\n",
       "      <td>0.533027</td>\n",
       "      <td>1.026537</td>\n",
       "      <td>0.284994</td>\n",
       "      <td>-0.295709</td>\n",
       "      <td>0.072017</td>\n",
       "      <td>0.482983</td>\n",
       "      <td>-0.229449</td>\n",
       "      <td>0.746458</td>\n",
       "      <td>...</td>\n",
       "      <td>-0.013027</td>\n",
       "      <td>1.101757</td>\n",
       "      <td>-0.220391</td>\n",
       "      <td>0.233258</td>\n",
       "      <td>-0.395245</td>\n",
       "      <td>1.041986</td>\n",
       "      <td>0.554455</td>\n",
       "      <td>0.655902</td>\n",
       "      <td>69.99</td>\n",
       "      <td>0</td>\n",
       "    </tr>\n",
       "  </tbody>\n",
       "</table>\n",
       "<p>5 rows × 31 columns</p>\n",
       "</div>"
      ],
      "text/plain": [
       "   Time        V1        V2        V3        V4        V5        V6        V7  \\\n",
       "0   0.0 -0.698044 -0.044198  1.681167  0.974523 -0.245693  0.347156  0.195166   \n",
       "1   0.0  0.611828  0.161626  0.110348  0.316899  0.043586 -0.061836 -0.064189   \n",
       "2   1.0 -0.697298 -0.813846  1.175337  0.268550 -0.365429  1.351797  0.644689   \n",
       "3   1.0 -0.496026 -0.112483  1.188450 -0.610452 -0.007486  0.936388  0.193546   \n",
       "4   2.0 -0.594568  0.533027  1.026537  0.284994 -0.295709  0.072017  0.482983   \n",
       "\n",
       "         V8        V9  ...       V21       V22       V23       V24       V25  \\\n",
       "0  0.083709  0.332076  ... -0.025289  0.383462 -0.177126  0.110510  0.246612   \n",
       "1  0.072178 -0.233160  ... -0.311883 -0.881473  0.162398 -0.561148  0.320729   \n",
       "2  0.210063 -1.382624  ...  0.342582  1.065046  1.458087 -1.138128 -0.628605   \n",
       "3  0.320117 -1.266119  ... -0.149605  0.007278 -0.305146 -1.941089  1.242039   \n",
       "4 -0.229449  0.746458  ... -0.013027  1.101757 -0.220391  0.233258 -0.395245   \n",
       "\n",
       "        V26       V27       V28  Amount  Class  \n",
       "0 -0.392311  0.337487 -0.064181  149.62      0  \n",
       "1  0.261163 -0.022699  0.044887    2.69      0  \n",
       "2 -0.288550 -0.139870 -0.182155  378.66      0  \n",
       "3 -0.460383  0.158494  0.187356  123.50      0  \n",
       "4  1.041986  0.554455  0.655902   69.99      0  \n",
       "\n",
       "[5 rows x 31 columns]"
      ]
     },
     "execution_count": 3,
     "metadata": {},
     "output_type": "execute_result"
    }
   ],
   "source": [
    "# Loading the Fraud Datasets into dataframe.\n",
    "credFraudDF1 = pd.read_csv(\"DATASETS/fraud.csv\") #importing csv file as DataFrame\n",
    "credFraudDF1.head(5)"
   ]
  },
  {
   "cell_type": "code",
   "execution_count": 4,
   "id": "9c97d61f",
   "metadata": {},
   "outputs": [
    {
     "data": {
      "text/html": [
       "<div>\n",
       "<style scoped>\n",
       "    .dataframe tbody tr th:only-of-type {\n",
       "        vertical-align: middle;\n",
       "    }\n",
       "\n",
       "    .dataframe tbody tr th {\n",
       "        vertical-align: top;\n",
       "    }\n",
       "\n",
       "    .dataframe thead th {\n",
       "        text-align: right;\n",
       "    }\n",
       "</style>\n",
       "<table border=\"1\" class=\"dataframe\">\n",
       "  <thead>\n",
       "    <tr style=\"text-align: right;\">\n",
       "      <th></th>\n",
       "      <th>Time</th>\n",
       "      <th>V1</th>\n",
       "      <th>V2</th>\n",
       "      <th>V3</th>\n",
       "      <th>V4</th>\n",
       "      <th>V5</th>\n",
       "      <th>V6</th>\n",
       "      <th>V7</th>\n",
       "      <th>V8</th>\n",
       "      <th>V9</th>\n",
       "      <th>...</th>\n",
       "      <th>V21</th>\n",
       "      <th>V22</th>\n",
       "      <th>V23</th>\n",
       "      <th>V24</th>\n",
       "      <th>V25</th>\n",
       "      <th>V26</th>\n",
       "      <th>V27</th>\n",
       "      <th>V28</th>\n",
       "      <th>Amount</th>\n",
       "      <th>Class</th>\n",
       "    </tr>\n",
       "  </thead>\n",
       "  <tbody>\n",
       "    <tr>\n",
       "      <th>283721</th>\n",
       "      <td>172786.0</td>\n",
       "      <td>-6.099055</td>\n",
       "      <td>6.116334</td>\n",
       "      <td>-6.518792</td>\n",
       "      <td>-1.461377</td>\n",
       "      <td>-3.895745</td>\n",
       "      <td>-1.957187</td>\n",
       "      <td>-4.006158</td>\n",
       "      <td>6.195926</td>\n",
       "      <td>1.747550</td>\n",
       "      <td>...</td>\n",
       "      <td>0.294863</td>\n",
       "      <td>0.154391</td>\n",
       "      <td>1.626545</td>\n",
       "      <td>-0.841027</td>\n",
       "      <td>2.756621</td>\n",
       "      <td>0.518686</td>\n",
       "      <td>2.384500</td>\n",
       "      <td>2.511171</td>\n",
       "      <td>0.77</td>\n",
       "      <td>0</td>\n",
       "    </tr>\n",
       "    <tr>\n",
       "      <th>283722</th>\n",
       "      <td>172787.0</td>\n",
       "      <td>-0.376170</td>\n",
       "      <td>-0.033449</td>\n",
       "      <td>1.348879</td>\n",
       "      <td>-0.522272</td>\n",
       "      <td>0.630519</td>\n",
       "      <td>0.794647</td>\n",
       "      <td>0.019818</td>\n",
       "      <td>0.250089</td>\n",
       "      <td>0.533824</td>\n",
       "      <td>...</td>\n",
       "      <td>0.295901</td>\n",
       "      <td>1.275803</td>\n",
       "      <td>0.019982</td>\n",
       "      <td>-1.677974</td>\n",
       "      <td>-1.163853</td>\n",
       "      <td>-0.819941</td>\n",
       "      <td>0.173022</td>\n",
       "      <td>-0.163180</td>\n",
       "      <td>24.79</td>\n",
       "      <td>0</td>\n",
       "    </tr>\n",
       "    <tr>\n",
       "      <th>283723</th>\n",
       "      <td>172788.0</td>\n",
       "      <td>0.985390</td>\n",
       "      <td>-0.182944</td>\n",
       "      <td>-2.153960</td>\n",
       "      <td>-0.394452</td>\n",
       "      <td>1.910312</td>\n",
       "      <td>2.275839</td>\n",
       "      <td>-0.241782</td>\n",
       "      <td>0.600835</td>\n",
       "      <td>0.394758</td>\n",
       "      <td>...</td>\n",
       "      <td>0.320544</td>\n",
       "      <td>0.798052</td>\n",
       "      <td>-0.060126</td>\n",
       "      <td>1.056978</td>\n",
       "      <td>0.509852</td>\n",
       "      <td>-0.181247</td>\n",
       "      <td>0.011257</td>\n",
       "      <td>-0.080972</td>\n",
       "      <td>67.88</td>\n",
       "      <td>0</td>\n",
       "    </tr>\n",
       "    <tr>\n",
       "      <th>283724</th>\n",
       "      <td>172788.0</td>\n",
       "      <td>-0.123428</td>\n",
       "      <td>0.322148</td>\n",
       "      <td>0.465645</td>\n",
       "      <td>0.487772</td>\n",
       "      <td>-0.274480</td>\n",
       "      <td>0.468273</td>\n",
       "      <td>-0.558931</td>\n",
       "      <td>0.576009</td>\n",
       "      <td>0.357909</td>\n",
       "      <td>...</td>\n",
       "      <td>0.366406</td>\n",
       "      <td>1.104200</td>\n",
       "      <td>-0.261820</td>\n",
       "      <td>0.203434</td>\n",
       "      <td>-1.091974</td>\n",
       "      <td>1.134042</td>\n",
       "      <td>0.274978</td>\n",
       "      <td>0.318672</td>\n",
       "      <td>10.00</td>\n",
       "      <td>0</td>\n",
       "    </tr>\n",
       "    <tr>\n",
       "      <th>283725</th>\n",
       "      <td>172792.0</td>\n",
       "      <td>-0.273822</td>\n",
       "      <td>-0.115220</td>\n",
       "      <td>0.466193</td>\n",
       "      <td>-0.357995</td>\n",
       "      <td>-0.009111</td>\n",
       "      <td>-0.487726</td>\n",
       "      <td>1.284559</td>\n",
       "      <td>-0.351680</td>\n",
       "      <td>0.443800</td>\n",
       "      <td>...</td>\n",
       "      <td>0.360622</td>\n",
       "      <td>0.887555</td>\n",
       "      <td>0.604097</td>\n",
       "      <td>0.014526</td>\n",
       "      <td>-0.908730</td>\n",
       "      <td>-1.697463</td>\n",
       "      <td>-0.006103</td>\n",
       "      <td>0.041609</td>\n",
       "      <td>217.00</td>\n",
       "      <td>0</td>\n",
       "    </tr>\n",
       "  </tbody>\n",
       "</table>\n",
       "<p>5 rows × 31 columns</p>\n",
       "</div>"
      ],
      "text/plain": [
       "            Time        V1        V2        V3        V4        V5        V6  \\\n",
       "283721  172786.0 -6.099055  6.116334 -6.518792 -1.461377 -3.895745 -1.957187   \n",
       "283722  172787.0 -0.376170 -0.033449  1.348879 -0.522272  0.630519  0.794647   \n",
       "283723  172788.0  0.985390 -0.182944 -2.153960 -0.394452  1.910312  2.275839   \n",
       "283724  172788.0 -0.123428  0.322148  0.465645  0.487772 -0.274480  0.468273   \n",
       "283725  172792.0 -0.273822 -0.115220  0.466193 -0.357995 -0.009111 -0.487726   \n",
       "\n",
       "              V7        V8        V9  ...       V21       V22       V23  \\\n",
       "283721 -4.006158  6.195926  1.747550  ...  0.294863  0.154391  1.626545   \n",
       "283722  0.019818  0.250089  0.533824  ...  0.295901  1.275803  0.019982   \n",
       "283723 -0.241782  0.600835  0.394758  ...  0.320544  0.798052 -0.060126   \n",
       "283724 -0.558931  0.576009  0.357909  ...  0.366406  1.104200 -0.261820   \n",
       "283725  1.284559 -0.351680  0.443800  ...  0.360622  0.887555  0.604097   \n",
       "\n",
       "             V24       V25       V26       V27       V28  Amount  Class  \n",
       "283721 -0.841027  2.756621  0.518686  2.384500  2.511171    0.77      0  \n",
       "283722 -1.677974 -1.163853 -0.819941  0.173022 -0.163180   24.79      0  \n",
       "283723  1.056978  0.509852 -0.181247  0.011257 -0.080972   67.88      0  \n",
       "283724  0.203434 -1.091974  1.134042  0.274978  0.318672   10.00      0  \n",
       "283725  0.014526 -0.908730 -1.697463 -0.006103  0.041609  217.00      0  \n",
       "\n",
       "[5 rows x 31 columns]"
      ]
     },
     "execution_count": 4,
     "metadata": {},
     "output_type": "execute_result"
    }
   ],
   "source": [
    "credFraudDF1.tail() # lets display the tails of the datasets"
   ]
  },
  {
   "cell_type": "code",
   "execution_count": 5,
   "id": "06c0c841",
   "metadata": {},
   "outputs": [
    {
     "data": {
      "text/plain": [
       "Time      0\n",
       "V1        0\n",
       "V2        0\n",
       "V3        0\n",
       "V4        0\n",
       "V5        0\n",
       "V6        0\n",
       "V7        0\n",
       "V8        0\n",
       "V9        0\n",
       "V10       0\n",
       "V11       0\n",
       "V12       0\n",
       "V13       0\n",
       "V14       0\n",
       "V15       0\n",
       "V16       0\n",
       "V17       0\n",
       "V18       0\n",
       "V19       0\n",
       "V20       0\n",
       "V21       0\n",
       "V22       0\n",
       "V23       0\n",
       "V24       0\n",
       "V25       0\n",
       "V26       0\n",
       "V27       0\n",
       "V28       0\n",
       "Amount    0\n",
       "Class     0\n",
       "dtype: int64"
      ]
     },
     "execution_count": 5,
     "metadata": {},
     "output_type": "execute_result"
    }
   ],
   "source": [
    "# Checking null and missing values\n",
    "credFraudDF1.isnull().sum()"
   ]
  },
  {
   "cell_type": "code",
   "execution_count": 6,
   "id": "9c37c715",
   "metadata": {},
   "outputs": [
    {
     "data": {
      "text/plain": [
       "0"
      ]
     },
     "execution_count": 6,
     "metadata": {},
     "output_type": "execute_result"
    }
   ],
   "source": [
    "# lets checking for duplicate rows\n",
    "credFraudDF1.duplicated().sum()\n"
   ]
  },
  {
   "cell_type": "code",
   "execution_count": 7,
   "id": "4ca27d3f",
   "metadata": {},
   "outputs": [
    {
     "data": {
      "text/plain": [
       "(283726, 31)"
      ]
     },
     "execution_count": 7,
     "metadata": {},
     "output_type": "execute_result"
    }
   ],
   "source": [
    "# No. of columns->31 and rows->283726\n",
    "credFraudDF1.shape"
   ]
  },
  {
   "cell_type": "code",
   "execution_count": 8,
   "id": "dc624041",
   "metadata": {},
   "outputs": [
    {
     "data": {
      "text/html": [
       "<div>\n",
       "<style scoped>\n",
       "    .dataframe tbody tr th:only-of-type {\n",
       "        vertical-align: middle;\n",
       "    }\n",
       "\n",
       "    .dataframe tbody tr th {\n",
       "        vertical-align: top;\n",
       "    }\n",
       "\n",
       "    .dataframe thead th {\n",
       "        text-align: right;\n",
       "    }\n",
       "</style>\n",
       "<table border=\"1\" class=\"dataframe\">\n",
       "  <thead>\n",
       "    <tr style=\"text-align: right;\">\n",
       "      <th></th>\n",
       "      <th>Time</th>\n",
       "      <th>V1</th>\n",
       "      <th>V2</th>\n",
       "      <th>V3</th>\n",
       "      <th>V4</th>\n",
       "      <th>V5</th>\n",
       "      <th>V6</th>\n",
       "      <th>V7</th>\n",
       "      <th>V8</th>\n",
       "      <th>V9</th>\n",
       "      <th>...</th>\n",
       "      <th>V21</th>\n",
       "      <th>V22</th>\n",
       "      <th>V23</th>\n",
       "      <th>V24</th>\n",
       "      <th>V25</th>\n",
       "      <th>V26</th>\n",
       "      <th>V27</th>\n",
       "      <th>V28</th>\n",
       "      <th>Amount</th>\n",
       "      <th>Class</th>\n",
       "    </tr>\n",
       "  </thead>\n",
       "  <tbody>\n",
       "    <tr>\n",
       "      <th>count</th>\n",
       "      <td>283726.00</td>\n",
       "      <td>283726.00</td>\n",
       "      <td>283726.00</td>\n",
       "      <td>283726.00</td>\n",
       "      <td>283726.00</td>\n",
       "      <td>283726.00</td>\n",
       "      <td>283726.00</td>\n",
       "      <td>283726.00</td>\n",
       "      <td>283726.00</td>\n",
       "      <td>283726.00</td>\n",
       "      <td>...</td>\n",
       "      <td>283726.00</td>\n",
       "      <td>283726.00</td>\n",
       "      <td>283726.00</td>\n",
       "      <td>283726.00</td>\n",
       "      <td>283726.00</td>\n",
       "      <td>283726.00</td>\n",
       "      <td>283726.00</td>\n",
       "      <td>283726.00</td>\n",
       "      <td>283726.00</td>\n",
       "      <td>283726.00</td>\n",
       "    </tr>\n",
       "    <tr>\n",
       "      <th>mean</th>\n",
       "      <td>94811.08</td>\n",
       "      <td>0.00</td>\n",
       "      <td>-0.00</td>\n",
       "      <td>0.00</td>\n",
       "      <td>-0.00</td>\n",
       "      <td>0.00</td>\n",
       "      <td>-0.00</td>\n",
       "      <td>0.00</td>\n",
       "      <td>-0.00</td>\n",
       "      <td>-0.00</td>\n",
       "      <td>...</td>\n",
       "      <td>-0.00</td>\n",
       "      <td>-0.00</td>\n",
       "      <td>0.00</td>\n",
       "      <td>0.00</td>\n",
       "      <td>-0.00</td>\n",
       "      <td>0.00</td>\n",
       "      <td>0.00</td>\n",
       "      <td>0.00</td>\n",
       "      <td>88.47</td>\n",
       "      <td>0.00</td>\n",
       "    </tr>\n",
       "    <tr>\n",
       "      <th>std</th>\n",
       "      <td>47481.05</td>\n",
       "      <td>1.00</td>\n",
       "      <td>1.00</td>\n",
       "      <td>1.00</td>\n",
       "      <td>1.00</td>\n",
       "      <td>1.00</td>\n",
       "      <td>1.00</td>\n",
       "      <td>1.00</td>\n",
       "      <td>1.00</td>\n",
       "      <td>1.00</td>\n",
       "      <td>...</td>\n",
       "      <td>1.00</td>\n",
       "      <td>1.00</td>\n",
       "      <td>1.00</td>\n",
       "      <td>1.00</td>\n",
       "      <td>1.00</td>\n",
       "      <td>1.00</td>\n",
       "      <td>1.00</td>\n",
       "      <td>1.00</td>\n",
       "      <td>250.40</td>\n",
       "      <td>0.04</td>\n",
       "    </tr>\n",
       "    <tr>\n",
       "      <th>min</th>\n",
       "      <td>0.00</td>\n",
       "      <td>-28.96</td>\n",
       "      <td>-44.16</td>\n",
       "      <td>-32.03</td>\n",
       "      <td>-4.02</td>\n",
       "      <td>-82.60</td>\n",
       "      <td>-19.64</td>\n",
       "      <td>-35.48</td>\n",
       "      <td>-62.10</td>\n",
       "      <td>-12.26</td>\n",
       "      <td>...</td>\n",
       "      <td>-48.11</td>\n",
       "      <td>-15.09</td>\n",
       "      <td>-71.84</td>\n",
       "      <td>-4.68</td>\n",
       "      <td>-19.75</td>\n",
       "      <td>-5.40</td>\n",
       "      <td>-57.02</td>\n",
       "      <td>-47.04</td>\n",
       "      <td>0.00</td>\n",
       "      <td>0.00</td>\n",
       "    </tr>\n",
       "    <tr>\n",
       "      <th>25%</th>\n",
       "      <td>54204.75</td>\n",
       "      <td>-0.47</td>\n",
       "      <td>-0.36</td>\n",
       "      <td>-0.59</td>\n",
       "      <td>-0.60</td>\n",
       "      <td>-0.50</td>\n",
       "      <td>-0.58</td>\n",
       "      <td>-0.45</td>\n",
       "      <td>-0.18</td>\n",
       "      <td>-0.59</td>\n",
       "      <td>...</td>\n",
       "      <td>-0.32</td>\n",
       "      <td>-0.75</td>\n",
       "      <td>-0.26</td>\n",
       "      <td>-0.59</td>\n",
       "      <td>-0.61</td>\n",
       "      <td>-0.68</td>\n",
       "      <td>-0.18</td>\n",
       "      <td>-0.16</td>\n",
       "      <td>5.60</td>\n",
       "      <td>0.00</td>\n",
       "    </tr>\n",
       "    <tr>\n",
       "      <th>50%</th>\n",
       "      <td>84692.50</td>\n",
       "      <td>0.01</td>\n",
       "      <td>0.04</td>\n",
       "      <td>0.12</td>\n",
       "      <td>-0.02</td>\n",
       "      <td>-0.04</td>\n",
       "      <td>-0.21</td>\n",
       "      <td>0.03</td>\n",
       "      <td>0.02</td>\n",
       "      <td>-0.05</td>\n",
       "      <td>...</td>\n",
       "      <td>-0.04</td>\n",
       "      <td>0.01</td>\n",
       "      <td>-0.02</td>\n",
       "      <td>0.07</td>\n",
       "      <td>0.03</td>\n",
       "      <td>-0.11</td>\n",
       "      <td>0.00</td>\n",
       "      <td>0.03</td>\n",
       "      <td>22.00</td>\n",
       "      <td>0.00</td>\n",
       "    </tr>\n",
       "    <tr>\n",
       "      <th>75%</th>\n",
       "      <td>139298.00</td>\n",
       "      <td>0.68</td>\n",
       "      <td>0.49</td>\n",
       "      <td>0.68</td>\n",
       "      <td>0.52</td>\n",
       "      <td>0.44</td>\n",
       "      <td>0.30</td>\n",
       "      <td>0.46</td>\n",
       "      <td>0.28</td>\n",
       "      <td>0.54</td>\n",
       "      <td>...</td>\n",
       "      <td>0.26</td>\n",
       "      <td>0.73</td>\n",
       "      <td>0.24</td>\n",
       "      <td>0.73</td>\n",
       "      <td>0.67</td>\n",
       "      <td>0.50</td>\n",
       "      <td>0.23</td>\n",
       "      <td>0.24</td>\n",
       "      <td>77.51</td>\n",
       "      <td>0.00</td>\n",
       "    </tr>\n",
       "    <tr>\n",
       "      <th>max</th>\n",
       "      <td>172792.00</td>\n",
       "      <td>1.26</td>\n",
       "      <td>13.40</td>\n",
       "      <td>6.22</td>\n",
       "      <td>11.93</td>\n",
       "      <td>25.27</td>\n",
       "      <td>55.03</td>\n",
       "      <td>98.23</td>\n",
       "      <td>16.97</td>\n",
       "      <td>14.24</td>\n",
       "      <td>...</td>\n",
       "      <td>37.58</td>\n",
       "      <td>14.50</td>\n",
       "      <td>36.12</td>\n",
       "      <td>7.57</td>\n",
       "      <td>14.43</td>\n",
       "      <td>7.30</td>\n",
       "      <td>79.88</td>\n",
       "      <td>103.19</td>\n",
       "      <td>25691.16</td>\n",
       "      <td>1.00</td>\n",
       "    </tr>\n",
       "  </tbody>\n",
       "</table>\n",
       "<p>8 rows × 31 columns</p>\n",
       "</div>"
      ],
      "text/plain": [
       "            Time         V1         V2         V3         V4         V5  \\\n",
       "count  283726.00  283726.00  283726.00  283726.00  283726.00  283726.00   \n",
       "mean    94811.08       0.00      -0.00       0.00      -0.00       0.00   \n",
       "std     47481.05       1.00       1.00       1.00       1.00       1.00   \n",
       "min         0.00     -28.96     -44.16     -32.03      -4.02     -82.60   \n",
       "25%     54204.75      -0.47      -0.36      -0.59      -0.60      -0.50   \n",
       "50%     84692.50       0.01       0.04       0.12      -0.02      -0.04   \n",
       "75%    139298.00       0.68       0.49       0.68       0.52       0.44   \n",
       "max    172792.00       1.26      13.40       6.22      11.93      25.27   \n",
       "\n",
       "              V6         V7         V8         V9  ...        V21        V22  \\\n",
       "count  283726.00  283726.00  283726.00  283726.00  ...  283726.00  283726.00   \n",
       "mean       -0.00       0.00      -0.00      -0.00  ...      -0.00      -0.00   \n",
       "std         1.00       1.00       1.00       1.00  ...       1.00       1.00   \n",
       "min       -19.64     -35.48     -62.10     -12.26  ...     -48.11     -15.09   \n",
       "25%        -0.58      -0.45      -0.18      -0.59  ...      -0.32      -0.75   \n",
       "50%        -0.21       0.03       0.02      -0.05  ...      -0.04       0.01   \n",
       "75%         0.30       0.46       0.28       0.54  ...       0.26       0.73   \n",
       "max        55.03      98.23      16.97      14.24  ...      37.58      14.50   \n",
       "\n",
       "             V23        V24        V25        V26        V27        V28  \\\n",
       "count  283726.00  283726.00  283726.00  283726.00  283726.00  283726.00   \n",
       "mean        0.00       0.00      -0.00       0.00       0.00       0.00   \n",
       "std         1.00       1.00       1.00       1.00       1.00       1.00   \n",
       "min       -71.84      -4.68     -19.75      -5.40     -57.02     -47.04   \n",
       "25%        -0.26      -0.59      -0.61      -0.68      -0.18      -0.16   \n",
       "50%        -0.02       0.07       0.03      -0.11       0.00       0.03   \n",
       "75%         0.24       0.73       0.67       0.50       0.23       0.24   \n",
       "max        36.12       7.57      14.43       7.30      79.88     103.19   \n",
       "\n",
       "          Amount      Class  \n",
       "count  283726.00  283726.00  \n",
       "mean       88.47       0.00  \n",
       "std       250.40       0.04  \n",
       "min         0.00       0.00  \n",
       "25%         5.60       0.00  \n",
       "50%        22.00       0.00  \n",
       "75%        77.51       0.00  \n",
       "max     25691.16       1.00  \n",
       "\n",
       "[8 rows x 31 columns]"
      ]
     },
     "execution_count": 8,
     "metadata": {},
     "output_type": "execute_result"
    }
   ],
   "source": [
    "# Stats info\n",
    "credFraudDF1.describe().round(2)"
   ]
  },
  {
   "cell_type": "code",
   "execution_count": 9,
   "id": "8bc6337a",
   "metadata": {},
   "outputs": [
    {
     "name": "stdout",
     "output_type": "stream",
     "text": [
      "Not Fraud %  99.83\n",
      "\n",
      "count    283253.00\n",
      "mean         88.41\n",
      "std         250.38\n",
      "min           0.00\n",
      "25%           5.67\n",
      "50%          22.00\n",
      "75%          77.46\n",
      "max       25691.16\n",
      "Name: Amount, dtype: float64\n",
      "\n",
      "\n",
      "Fraud %     0.17\n",
      "\n",
      "count     473.00\n",
      "mean      123.87\n",
      "std       260.21\n",
      "min         0.00\n",
      "25%         1.00\n",
      "50%         9.82\n",
      "75%       105.89\n",
      "max      2125.87\n",
      "Name: Amount, dtype: float64\n"
     ]
    }
   ],
   "source": [
    "# now I will calculate Statical information-> i.e percentage of fraud and non fraud for each class\n",
    "# here 99.83 % -> Not Fraud and 0.17% -> Fraud\n",
    "print ('Not Fraud % ',round(credFraudDF1['Class'].value_counts()[0]/len(credFraudDF1)*100,2))\n",
    "print ()\n",
    "print (round(credFraudDF1.Amount[credFraudDF1.Class == 0].describe(),2))\n",
    "print ()\n",
    "print ()\n",
    "print ('Fraud %    ',round(credFraudDF1['Class'].value_counts()[1]/len(credFraudDF1)*100,2))\n",
    "print ()\n",
    "print (round(credFraudDF1.Amount[credFraudDF1.Class == 1].describe(),2))"
   ]
  },
  {
   "cell_type": "code",
   "execution_count": 10,
   "id": "7ece92fc",
   "metadata": {},
   "outputs": [
    {
     "data": {
      "text/plain": [
       "Class\n",
       "0    283253\n",
       "1       473\n",
       "Name: count, dtype: int64"
      ]
     },
     "execution_count": 10,
     "metadata": {},
     "output_type": "execute_result"
    }
   ],
   "source": [
    "credFraudDF1['Class'].value_counts()\n",
    "#  count of class 0 i.e non Fraud is 283253\n",
    "# and count of class 1 i.e Fraud is 473\n",
    "# which is highly biased data"
   ]
  },
  {
   "cell_type": "markdown",
   "id": "02ba25c5",
   "metadata": {},
   "source": [
    "# Exploratory Data Analysis"
   ]
  },
  {
   "cell_type": "code",
   "execution_count": 11,
   "id": "dd491116",
   "metadata": {},
   "outputs": [
    {
     "data": {
      "image/png": "[encoded data removed]",
      "text/plain": [
       "<Figure size 1000x500 with 1 Axes>"
      ]
     },
     "metadata": {},
     "output_type": "display_data"
    }
   ],
   "source": [
    "# Analysing the Histogram of Amount column to understand distribution of the data\n",
    "plt.figure(figsize=(10, 5))\n",
    "plt.xticks(range(0, 40000, 4000), rotation=90)\n",
    "sns.histplot(credFraudDF1['Amount'], bins=100, kde=True, color='Teal')\n",
    "plt.title(\"Distribution of Amount Column\")\n",
    "plt.xticks(rotation=0)\n",
    "plt.show()"
   ]
  },
  {
   "cell_type": "code",
   "execution_count": null,
   "id": "3f5f977b",
   "metadata": {},
   "outputs": [],
   "source": []
  },
  {
   "cell_type": "code",
   "execution_count": 12,
   "id": "430352b1",
   "metadata": {},
   "outputs": [
    {
     "data": {
      "image/png": "[encoded data removed]",
      "text/plain": [
       "<Figure size 800x400 with 1 Axes>"
      ]
     },
     "metadata": {},
     "output_type": "display_data"
    }
   ],
   "source": [
    "# plot the distribution of Amount column after taking the log of Amount\n",
    "plt.figure(figsize=(8, 4))\n",
    "sns.histplot(np.log1p(credFraudDF1['Amount']), bins=50, kde=True,color='Teal')\n",
    "plt.title(\"Histogram Distribution of log(Amount) \")\n",
    "plt.show()"
   ]
  },
  {
   "cell_type": "code",
   "execution_count": 13,
   "id": "07e93e51",
   "metadata": {},
   "outputs": [
    {
     "data": {
      "image/png": "[encoded data removed]",
      "text/plain": [
       "<Figure size 800x800 with 2 Axes>"
      ]
     },
     "metadata": {},
     "output_type": "display_data"
    }
   ],
   "source": [
    "# plot the heatmap to the correlation of all the features\n",
    "plt.figure(figsize=(8, 8))\n",
    "mycorretalionmatri = credFraudDF1.corr()\n",
    "sns.heatmap(mycorretalionmatri, cmap='coolwarm')\n",
    "plt.title(\"The Correlation Matrix of Credit card Fraud Data\")\n",
    "plt.show()\n",
    "\n",
    "# From the  Correlation matrix I can observe that\n",
    "#  Amount Column is highly COrrelated with v1,v2,v3,v5,v6 v7,v20\n",
    "# The traget varible class column is highly correlated with V2,V4,V17,V14"
   ]
  },
  {
   "cell_type": "code",
   "execution_count": null,
   "id": "59fc9b0c",
   "metadata": {},
   "outputs": [],
   "source": []
  },
  {
   "cell_type": "code",
   "execution_count": null,
   "id": "3b1d42c7",
   "metadata": {},
   "outputs": [],
   "source": []
  },
  {
   "cell_type": "code",
   "execution_count": 14,
   "id": "0ddfb30c",
   "metadata": {},
   "outputs": [
    {
     "name": "stdout",
     "output_type": "stream",
     "text": [
      "Total Non-Fraud data 99.83%\n",
      "and Total Fraud data 0.17%\n"
     ]
    },
    {
     "data": {
      "image/png": "[encoded data removed]",
      "text/plain": [
       "<Figure size 700x500 with 1 Axes>"
      ]
     },
     "metadata": {},
     "output_type": "display_data"
    }
   ],
   "source": [
    "# lets Me Plot the barchart for Not Fraud vs Fraud \n",
    "plt.figure(figsize=(7,5)) \n",
    "theClasscounts = credFraudDF1['Class'].value_counts()\n",
    "# sns.set_style('darkgrid') \n",
    "\n",
    "sns.barplot(x=theClasscounts.index,y=theClasscounts, palette=[\"C4\", \"C8\"])\n",
    "plt.title('Bar chart representing Non Fraud and Fraud')\n",
    "plt.ylabel('Count')\n",
    "plt.xlabel('0: Non Fraud,  1: Fraud')\n",
    "\n",
    "print(f\"Total Non-Fraud data {round(credFraudDF1['Class'].value_counts()[0]/len(credFraudDF1)*100,2)}%\")\n",
    "print (f\"and Total Fraud data {round(credFraudDF1['Class'].value_counts()[1]/len(credFraudDF1)*100,2)}%\")"
   ]
  },
  {
   "cell_type": "code",
   "execution_count": 15,
   "id": "743f5b76",
   "metadata": {},
   "outputs": [
    {
     "data": {
      "image/png": "[encoded data removed]",
      "text/plain": [
       "<Figure size 1000x500 with 1 Axes>"
      ]
     },
     "metadata": {},
     "output_type": "display_data"
    }
   ],
   "source": [
    "\n",
    "# Lets  plot and check if there are any of the outliers in our data\n",
    "\n",
    "# selected_columns = ['Amount', 'Class','Time']\n",
    "plt.figure(figsize=(10, 5))\n",
    "\n",
    "sns.boxplot(data=credFraudDF1)  # Create box plots all the columns in the DataFrame\n",
    "plt.title('Box Plot to check Outliers') # graph Title\n",
    "plt.xticks(rotation=90)\n",
    "plt.show()\n"
   ]
  },
  {
   "cell_type": "markdown",
   "id": "1e9ba25e",
   "metadata": {},
   "source": [
    "# Model Building"
   ]
  },
  {
   "cell_type": "code",
   "execution_count": 16,
   "id": "05d8bb94",
   "metadata": {},
   "outputs": [],
   "source": [
    "# simple Model without undersampling or oversampling"
   ]
  },
  {
   "cell_type": "code",
   "execution_count": null,
   "id": "f79827fa",
   "metadata": {},
   "outputs": [],
   "source": []
  },
  {
   "cell_type": "code",
   "execution_count": 17,
   "id": "d233d95d",
   "metadata": {},
   "outputs": [],
   "source": [
    "mycreFraudfeatures_colname = credFraudDF1.iloc[:, 1:30].columns # assigning the col names\n",
    "mydependentVariable_colname = credFraudDF1.iloc[:1, 30:].columns  # assigning the col names\n",
    "\n",
    "mycreFraudfeatures_Data = credFraudDF1[mycreFraudfeatures_colname] \n",
    "mydependentVariable_Data = credFraudDF1[mydependentVariable_colname]\n"
   ]
  },
  {
   "cell_type": "code",
   "execution_count": 18,
   "id": "c76e0ccb",
   "metadata": {},
   "outputs": [
    {
     "data": {
      "text/plain": [
       "Index(['V1', 'V2', 'V3', 'V4', 'V5', 'V6', 'V7', 'V8', 'V9', 'V10', 'V11',\n",
       "       'V12', 'V13', 'V14', 'V15', 'V16', 'V17', 'V18', 'V19', 'V20', 'V21',\n",
       "       'V22', 'V23', 'V24', 'V25', 'V26', 'V27', 'V28', 'Amount'],\n",
       "      dtype='object')"
      ]
     },
     "execution_count": 18,
     "metadata": {},
     "output_type": "execute_result"
    }
   ],
   "source": [
    "mycreFraudfeatures_colname"
   ]
  },
  {
   "cell_type": "code",
   "execution_count": 19,
   "id": "f4360b93",
   "metadata": {},
   "outputs": [],
   "source": [
    "# Let  Split the data into training and testing\n",
    "# The train_test_split function uses a randomizer to separate data into training and test sets.\n",
    "# In our case, we will use 70% of the data for training and 30% for tests.\n",
    "# The random seed (np.random.seed) is used to ensure that the same data is used for all runs.\n",
    "from sklearn.model_selection import train_test_split\n",
    "np.random.seed(123)\n",
    "X_train, X_test, y_train, y_test = train_test_split(mycreFraudfeatures_Data, mydependentVariable_Data, \n",
    "                                                    train_size = 0.70, test_size = 0.30, random_state = 1)"
   ]
  },
  {
   "cell_type": "code",
   "execution_count": 20,
   "id": "7836eff7",
   "metadata": {},
   "outputs": [
    {
     "data": {
      "text/html": [
       "<style>#sk-container-id-1 {\n",
       "  /* Definition of color scheme common for light and dark mode */\n",
       "  --sklearn-color-text: black;\n",
       "  --sklearn-color-line: gray;\n",
       "  /* Definition of color scheme for unfitted estimators */\n",
       "  --sklearn-color-unfitted-level-0: #fff5e6;\n",
       "  --sklearn-color-unfitted-level-1: #f6e4d2;\n",
       "  --sklearn-color-unfitted-level-2: #ffe0b3;\n",
       "  --sklearn-color-unfitted-level-3: chocolate;\n",
       "  /* Definition of color scheme for fitted estimators */\n",
       "  --sklearn-color-fitted-level-0: #f0f8ff;\n",
       "  --sklearn-color-fitted-level-1: #d4ebff;\n",
       "  --sklearn-color-fitted-level-2: #b3dbfd;\n",
       "  --sklearn-color-fitted-level-3: cornflowerblue;\n",
       "\n",
       "  /* Specific color for light theme */\n",
       "  --sklearn-color-text-on-default-background: var(--sg-text-color, var(--theme-code-foreground, var(--jp-content-font-color1, black)));\n",
       "  --sklearn-color-background: var(--sg-background-color, var(--theme-background, var(--jp-layout-color0, white)));\n",
       "  --sklearn-color-border-box: var(--sg-text-color, var(--theme-code-foreground, var(--jp-content-font-color1, black)));\n",
       "  --sklearn-color-icon: #696969;\n",
       "\n",
       "  @media (prefers-color-scheme: dark) {\n",
       "    /* Redefinition of color scheme for dark theme */\n",
       "    --sklearn-color-text-on-default-background: var(--sg-text-color, var(--theme-code-foreground, var(--jp-content-font-color1, white)));\n",
       "    --sklearn-color-background: var(--sg-background-color, var(--theme-background, var(--jp-layout-color0, #111)));\n",
       "    --sklearn-color-border-box: var(--sg-text-color, var(--theme-code-foreground, var(--jp-content-font-color1, white)));\n",
       "    --sklearn-color-icon: #878787;\n",
       "  }\n",
       "}\n",
       "\n",
       "#sk-container-id-1 {\n",
       "  color: var(--sklearn-color-text);\n",
       "}\n",
       "\n",
       "#sk-container-id-1 pre {\n",
       "  padding: 0;\n",
       "}\n",
       "\n",
       "#sk-container-id-1 input.sk-hidden--visually {\n",
       "  border: 0;\n",
       "  clip: rect(1px 1px 1px 1px);\n",
       "  clip: rect(1px, 1px, 1px, 1px);\n",
       "  height: 1px;\n",
       "  margin: -1px;\n",
       "  overflow: hidden;\n",
       "  padding: 0;\n",
       "  position: absolute;\n",
       "  width: 1px;\n",
       "}\n",
       "\n",
       "#sk-container-id-1 div.sk-dashed-wrapped {\n",
       "  border: 1px dashed var(--sklearn-color-line);\n",
       "  margin: 0 0.4em 0.5em 0.4em;\n",
       "  box-sizing: border-box;\n",
       "  padding-bottom: 0.4em;\n",
       "  background-color: var(--sklearn-color-background);\n",
       "}\n",
       "\n",
       "#sk-container-id-1 div.sk-container {\n",
       "  /* jupyter's `normalize.less` sets `[hidden] { display: none; }`\n",
       "     but bootstrap.min.css set `[hidden] { display: none !important; }`\n",
       "     so we also need the `!important` here to be able to override the\n",
       "     default hidden behavior on the sphinx rendered scikit-learn.org.\n",
       "     See: https://github.com/scikit-learn/scikit-learn/issues/21755 */\n",
       "  display: inline-block !important;\n",
       "  position: relative;\n",
       "}\n",
       "\n",
       "#sk-container-id-1 div.sk-text-repr-fallback {\n",
       "  display: none;\n",
       "}\n",
       "\n",
       "div.sk-parallel-item,\n",
       "div.sk-serial,\n",
       "div.sk-item {\n",
       "  /* draw centered vertical line to link estimators */\n",
       "  background-image: linear-gradient(var(--sklearn-color-text-on-default-background), var(--sklearn-color-text-on-default-background));\n",
       "  background-size: 2px 100%;\n",
       "  background-repeat: no-repeat;\n",
       "  background-position: center center;\n",
       "}\n",
       "\n",
       "/* Parallel-specific style estimator block */\n",
       "\n",
       "#sk-container-id-1 div.sk-parallel-item::after {\n",
       "  content: \"\";\n",
       "  width: 100%;\n",
       "  border-bottom: 2px solid var(--sklearn-color-text-on-default-background);\n",
       "  flex-grow: 1;\n",
       "}\n",
       "\n",
       "#sk-container-id-1 div.sk-parallel {\n",
       "  display: flex;\n",
       "  align-items: stretch;\n",
       "  justify-content: center;\n",
       "  background-color: var(--sklearn-color-background);\n",
       "  position: relative;\n",
       "}\n",
       "\n",
       "#sk-container-id-1 div.sk-parallel-item {\n",
       "  display: flex;\n",
       "  flex-direction: column;\n",
       "}\n",
       "\n",
       "#sk-container-id-1 div.sk-parallel-item:first-child::after {\n",
       "  align-self: flex-end;\n",
       "  width: 50%;\n",
       "}\n",
       "\n",
       "#sk-container-id-1 div.sk-parallel-item:last-child::after {\n",
       "  align-self: flex-start;\n",
       "  width: 50%;\n",
       "}\n",
       "\n",
       "#sk-container-id-1 div.sk-parallel-item:only-child::after {\n",
       "  width: 0;\n",
       "}\n",
       "\n",
       "/* Serial-specific style estimator block */\n",
       "\n",
       "#sk-container-id-1 div.sk-serial {\n",
       "  display: flex;\n",
       "  flex-direction: column;\n",
       "  align-items: center;\n",
       "  background-color: var(--sklearn-color-background);\n",
       "  padding-right: 1em;\n",
       "  padding-left: 1em;\n",
       "}\n",
       "\n",
       "\n",
       "/* Toggleable style: style used for estimator/Pipeline/ColumnTransformer box that is\n",
       "clickable and can be expanded/collapsed.\n",
       "- Pipeline and ColumnTransformer use this feature and define the default style\n",
       "- Estimators will overwrite some part of the style using the `sk-estimator` class\n",
       "*/\n",
       "\n",
       "/* Pipeline and ColumnTransformer style (default) */\n",
       "\n",
       "#sk-container-id-1 div.sk-toggleable {\n",
       "  /* Default theme specific background. It is overwritten whether we have a\n",
       "  specific estimator or a Pipeline/ColumnTransformer */\n",
       "  background-color: var(--sklearn-color-background);\n",
       "}\n",
       "\n",
       "/* Toggleable label */\n",
       "#sk-container-id-1 label.sk-toggleable__label {\n",
       "  cursor: pointer;\n",
       "  display: block;\n",
       "  width: 100%;\n",
       "  margin-bottom: 0;\n",
       "  padding: 0.5em;\n",
       "  box-sizing: border-box;\n",
       "  text-align: center;\n",
       "}\n",
       "\n",
       "#sk-container-id-1 label.sk-toggleable__label-arrow:before {\n",
       "  /* Arrow on the left of the label */\n",
       "  content: \"▸\";\n",
       "  float: left;\n",
       "  margin-right: 0.25em;\n",
       "  color: var(--sklearn-color-icon);\n",
       "}\n",
       "\n",
       "#sk-container-id-1 label.sk-toggleable__label-arrow:hover:before {\n",
       "  color: var(--sklearn-color-text);\n",
       "}\n",
       "\n",
       "/* Toggleable content - dropdown */\n",
       "\n",
       "#sk-container-id-1 div.sk-toggleable__content {\n",
       "  max-height: 0;\n",
       "  max-width: 0;\n",
       "  overflow: hidden;\n",
       "  text-align: left;\n",
       "  /* unfitted */\n",
       "  background-color: var(--sklearn-color-unfitted-level-0);\n",
       "}\n",
       "\n",
       "#sk-container-id-1 div.sk-toggleable__content.fitted {\n",
       "  /* fitted */\n",
       "  background-color: var(--sklearn-color-fitted-level-0);\n",
       "}\n",
       "\n",
       "#sk-container-id-1 div.sk-toggleable__content pre {\n",
       "  margin: 0.2em;\n",
       "  border-radius: 0.25em;\n",
       "  color: var(--sklearn-color-text);\n",
       "  /* unfitted */\n",
       "  background-color: var(--sklearn-color-unfitted-level-0);\n",
       "}\n",
       "\n",
       "#sk-container-id-1 div.sk-toggleable__content.fitted pre {\n",
       "  /* unfitted */\n",
       "  background-color: var(--sklearn-color-fitted-level-0);\n",
       "}\n",
       "\n",
       "#sk-container-id-1 input.sk-toggleable__control:checked~div.sk-toggleable__content {\n",
       "  /* Expand drop-down */\n",
       "  max-height: 200px;\n",
       "  max-width: 100%;\n",
       "  overflow: auto;\n",
       "}\n",
       "\n",
       "#sk-container-id-1 input.sk-toggleable__control:checked~label.sk-toggleable__label-arrow:before {\n",
       "  content: \"▾\";\n",
       "}\n",
       "\n",
       "/* Pipeline/ColumnTransformer-specific style */\n",
       "\n",
       "#sk-container-id-1 div.sk-label input.sk-toggleable__control:checked~label.sk-toggleable__label {\n",
       "  color: var(--sklearn-color-text);\n",
       "  background-color: var(--sklearn-color-unfitted-level-2);\n",
       "}\n",
       "\n",
       "#sk-container-id-1 div.sk-label.fitted input.sk-toggleable__control:checked~label.sk-toggleable__label {\n",
       "  background-color: var(--sklearn-color-fitted-level-2);\n",
       "}\n",
       "\n",
       "/* Estimator-specific style */\n",
       "\n",
       "/* Colorize estimator box */\n",
       "#sk-container-id-1 div.sk-estimator input.sk-toggleable__control:checked~label.sk-toggleable__label {\n",
       "  /* unfitted */\n",
       "  background-color: var(--sklearn-color-unfitted-level-2);\n",
       "}\n",
       "\n",
       "#sk-container-id-1 div.sk-estimator.fitted input.sk-toggleable__control:checked~label.sk-toggleable__label {\n",
       "  /* fitted */\n",
       "  background-color: var(--sklearn-color-fitted-level-2);\n",
       "}\n",
       "\n",
       "#sk-container-id-1 div.sk-label label.sk-toggleable__label,\n",
       "#sk-container-id-1 div.sk-label label {\n",
       "  /* The background is the default theme color */\n",
       "  color: var(--sklearn-color-text-on-default-background);\n",
       "}\n",
       "\n",
       "/* On hover, darken the color of the background */\n",
       "#sk-container-id-1 div.sk-label:hover label.sk-toggleable__label {\n",
       "  color: var(--sklearn-color-text);\n",
       "  background-color: var(--sklearn-color-unfitted-level-2);\n",
       "}\n",
       "\n",
       "/* Label box, darken color on hover, fitted */\n",
       "#sk-container-id-1 div.sk-label.fitted:hover label.sk-toggleable__label.fitted {\n",
       "  color: var(--sklearn-color-text);\n",
       "  background-color: var(--sklearn-color-fitted-level-2);\n",
       "}\n",
       "\n",
       "/* Estimator label */\n",
       "\n",
       "#sk-container-id-1 div.sk-label label {\n",
       "  font-family: monospace;\n",
       "  font-weight: bold;\n",
       "  display: inline-block;\n",
       "  line-height: 1.2em;\n",
       "}\n",
       "\n",
       "#sk-container-id-1 div.sk-label-container {\n",
       "  text-align: center;\n",
       "}\n",
       "\n",
       "/* Estimator-specific */\n",
       "#sk-container-id-1 div.sk-estimator {\n",
       "  font-family: monospace;\n",
       "  border: 1px dotted var(--sklearn-color-border-box);\n",
       "  border-radius: 0.25em;\n",
       "  box-sizing: border-box;\n",
       "  margin-bottom: 0.5em;\n",
       "  /* unfitted */\n",
       "  background-color: var(--sklearn-color-unfitted-level-0);\n",
       "}\n",
       "\n",
       "#sk-container-id-1 div.sk-estimator.fitted {\n",
       "  /* fitted */\n",
       "  background-color: var(--sklearn-color-fitted-level-0);\n",
       "}\n",
       "\n",
       "/* on hover */\n",
       "#sk-container-id-1 div.sk-estimator:hover {\n",
       "  /* unfitted */\n",
       "  background-color: var(--sklearn-color-unfitted-level-2);\n",
       "}\n",
       "\n",
       "#sk-container-id-1 div.sk-estimator.fitted:hover {\n",
       "  /* fitted */\n",
       "  background-color: var(--sklearn-color-fitted-level-2);\n",
       "}\n",
       "\n",
       "/* Specification for estimator info (e.g. \"i\" and \"?\") */\n",
       "\n",
       "/* Common style for \"i\" and \"?\" */\n",
       "\n",
       ".sk-estimator-doc-link,\n",
       "a:link.sk-estimator-doc-link,\n",
       "a:visited.sk-estimator-doc-link {\n",
       "  float: right;\n",
       "  font-size: smaller;\n",
       "  line-height: 1em;\n",
       "  font-family: monospace;\n",
       "  background-color: var(--sklearn-color-background);\n",
       "  border-radius: 1em;\n",
       "  height: 1em;\n",
       "  width: 1em;\n",
       "  text-decoration: none !important;\n",
       "  margin-left: 1ex;\n",
       "  /* unfitted */\n",
       "  border: var(--sklearn-color-unfitted-level-1) 1pt solid;\n",
       "  color: var(--sklearn-color-unfitted-level-1);\n",
       "}\n",
       "\n",
       ".sk-estimator-doc-link.fitted,\n",
       "a:link.sk-estimator-doc-link.fitted,\n",
       "a:visited.sk-estimator-doc-link.fitted {\n",
       "  /* fitted */\n",
       "  border: var(--sklearn-color-fitted-level-1) 1pt solid;\n",
       "  color: var(--sklearn-color-fitted-level-1);\n",
       "}\n",
       "\n",
       "/* On hover */\n",
       "div.sk-estimator:hover .sk-estimator-doc-link:hover,\n",
       ".sk-estimator-doc-link:hover,\n",
       "div.sk-label-container:hover .sk-estimator-doc-link:hover,\n",
       ".sk-estimator-doc-link:hover {\n",
       "  /* unfitted */\n",
       "  background-color: var(--sklearn-color-unfitted-level-3);\n",
       "  color: var(--sklearn-color-background);\n",
       "  text-decoration: none;\n",
       "}\n",
       "\n",
       "div.sk-estimator.fitted:hover .sk-estimator-doc-link.fitted:hover,\n",
       ".sk-estimator-doc-link.fitted:hover,\n",
       "div.sk-label-container:hover .sk-estimator-doc-link.fitted:hover,\n",
       ".sk-estimator-doc-link.fitted:hover {\n",
       "  /* fitted */\n",
       "  background-color: var(--sklearn-color-fitted-level-3);\n",
       "  color: var(--sklearn-color-background);\n",
       "  text-decoration: none;\n",
       "}\n",
       "\n",
       "/* Span, style for the box shown on hovering the info icon */\n",
       ".sk-estimator-doc-link span {\n",
       "  display: none;\n",
       "  z-index: 9999;\n",
       "  position: relative;\n",
       "  font-weight: normal;\n",
       "  right: .2ex;\n",
       "  padding: .5ex;\n",
       "  margin: .5ex;\n",
       "  width: min-content;\n",
       "  min-width: 20ex;\n",
       "  max-width: 50ex;\n",
       "  color: var(--sklearn-color-text);\n",
       "  box-shadow: 2pt 2pt 4pt #999;\n",
       "  /* unfitted */\n",
       "  background: var(--sklearn-color-unfitted-level-0);\n",
       "  border: .5pt solid var(--sklearn-color-unfitted-level-3);\n",
       "}\n",
       "\n",
       ".sk-estimator-doc-link.fitted span {\n",
       "  /* fitted */\n",
       "  background: var(--sklearn-color-fitted-level-0);\n",
       "  border: var(--sklearn-color-fitted-level-3);\n",
       "}\n",
       "\n",
       ".sk-estimator-doc-link:hover span {\n",
       "  display: block;\n",
       "}\n",
       "\n",
       "/* \"?\"-specific style due to the `<a>` HTML tag */\n",
       "\n",
       "#sk-container-id-1 a.estimator_doc_link {\n",
       "  float: right;\n",
       "  font-size: 1rem;\n",
       "  line-height: 1em;\n",
       "  font-family: monospace;\n",
       "  background-color: var(--sklearn-color-background);\n",
       "  border-radius: 1rem;\n",
       "  height: 1rem;\n",
       "  width: 1rem;\n",
       "  text-decoration: none;\n",
       "  /* unfitted */\n",
       "  color: var(--sklearn-color-unfitted-level-1);\n",
       "  border: var(--sklearn-color-unfitted-level-1) 1pt solid;\n",
       "}\n",
       "\n",
       "#sk-container-id-1 a.estimator_doc_link.fitted {\n",
       "  /* fitted */\n",
       "  border: var(--sklearn-color-fitted-level-1) 1pt solid;\n",
       "  color: var(--sklearn-color-fitted-level-1);\n",
       "}\n",
       "\n",
       "/* On hover */\n",
       "#sk-container-id-1 a.estimator_doc_link:hover {\n",
       "  /* unfitted */\n",
       "  background-color: var(--sklearn-color-unfitted-level-3);\n",
       "  color: var(--sklearn-color-background);\n",
       "  text-decoration: none;\n",
       "}\n",
       "\n",
       "#sk-container-id-1 a.estimator_doc_link.fitted:hover {\n",
       "  /* fitted */\n",
       "  background-color: var(--sklearn-color-fitted-level-3);\n",
       "}\n",
       "</style><div id=\"sk-container-id-1\" class=\"sk-top-container\"><div class=\"sk-text-repr-fallback\"><pre>LogisticRegression()</pre><b>In a Jupyter environment, please rerun this cell to show the HTML representation or trust the notebook. <br />On GitHub, the HTML representation is unable to render, please try loading this page with nbviewer.org.</b></div><div class=\"sk-container\" hidden><div class=\"sk-item\"><div class=\"sk-estimator fitted sk-toggleable\"><input class=\"sk-toggleable__control sk-hidden--visually\" id=\"sk-estimator-id-1\" type=\"checkbox\" checked><label for=\"sk-estimator-id-1\" class=\"sk-toggleable__label fitted sk-toggleable__label-arrow fitted\">&nbsp;&nbsp;LogisticRegression<a class=\"sk-estimator-doc-link fitted\" rel=\"noreferrer\" target=\"_blank\" href=\"https://scikit-learn.org/1.4/modules/generated/sklearn.linear_model.LogisticRegression.html\">?<span>Documentation for LogisticRegression</span></a><span class=\"sk-estimator-doc-link fitted\">i<span>Fitted</span></span></label><div class=\"sk-toggleable__content fitted\"><pre>LogisticRegression()</pre></div> </div></div></div></div>"
      ],
      "text/plain": [
       "LogisticRegression()"
      ]
     },
     "execution_count": 20,
     "metadata": {},
     "output_type": "execute_result"
    }
   ],
   "source": [
    "from sklearn.linear_model import LogisticRegression\n",
    "lr = LogisticRegression()\n",
    "# Training the model\n",
    "lr.fit(X_train, y_train)"
   ]
  },
  {
   "cell_type": "code",
   "execution_count": null,
   "id": "91234b75",
   "metadata": {},
   "outputs": [],
   "source": []
  },
  {
   "cell_type": "code",
   "execution_count": 21,
   "id": "f39a0deb",
   "metadata": {},
   "outputs": [],
   "source": [
    "#  Model Defination and ploting of confusion matrix\n",
    "def RunModel(model, X_train, y_train, X_test, y_test):\n",
    "    model.fit(X_train, y_train.values.ravel())\n",
    "    y_pred = model.predict(X_test)\n",
    "#     matrix = confusion_matrix(y_test, pred)\n",
    "    print(f\"\\n Accuaracy - Test Data : {accuracy_score(y_test, y_pred)}\")\n",
    "    print(f\"\\n Precision - Test Data : {precision_score(y_test, y_pred)}\")\n",
    "    print(f\"\\n Recall  - Test Data : {recall_score(y_test, y_pred)}\")\n",
    "    print(f\"\\n F1 Score  - Test Data : {f1_score(y_test, y_pred)}\")\n",
    "    \n",
    "    return y_pred"
   ]
  },
  {
   "cell_type": "markdown",
   "id": "85b94e20",
   "metadata": {},
   "source": [
    "## 1st Model performance"
   ]
  },
  {
   "cell_type": "code",
   "execution_count": 22,
   "id": "8f7aa982",
   "metadata": {
    "scrolled": false
   },
   "outputs": [
    {
     "name": "stdout",
     "output_type": "stream",
     "text": [
      "\n",
      " Accuaracy - Test Data : 0.9992833478230222\n",
      "\n",
      " Precision - Test Data : 0.8636363636363636\n",
      "\n",
      " Recall  - Test Data : 0.608\n",
      "\n",
      " F1 Score  - Test Data : 0.7136150234741784\n"
     ]
    }
   ],
   "source": [
    "# Lets run the 1st Model and get classification Report - Model performance measures\n",
    "pred = RunModel(lr, X_train, y_train, X_test, y_test)"
   ]
  },
  {
   "cell_type": "code",
   "execution_count": 23,
   "id": "e33d6284",
   "metadata": {},
   "outputs": [
    {
     "data": {
      "image/png": "[encoded data removed]",
      "text/plain": [
       "<Figure size 800x600 with 1 Axes>"
      ]
     },
     "metadata": {},
     "output_type": "display_data"
    }
   ],
   "source": [
    "# Compute confusion matrix\n",
    "cnfsnMatrx = confusion_matrix(y_test, pred)\n",
    "\n",
    "# Lets plot the confusion matrix \n",
    "plt.figure(figsize=(8, 6))\n",
    "sns.heatmap(cnfsnMatrx, annot=True, fmt='d', cmap='Blues', cbar=False, annot_kws={\"fontsize\": 14})\n",
    "plt.xlabel('Predicted labels',fontsize=14)\n",
    "plt.ylabel('True labels',fontsize=14)\n",
    "plt.title('Confusion Matrix For 1st Model',fontsize=14)\n",
    "plt.show()\n",
    "\n"
   ]
  },
  {
   "cell_type": "code",
   "execution_count": 26,
   "id": "b61bf42e",
   "metadata": {},
   "outputs": [
    {
     "data": {
      "text/plain": [
       "0.9992833478230222"
      ]
     },
     "execution_count": 26,
     "metadata": {},
     "output_type": "execute_result"
    }
   ],
   "source": [
    "# Testing and saving the accuracy score of the 1st Model\n",
    "accuracy_score(y_test, pred)\n",
    "\n",
    "accuracyScore1model= accuracy_score(y_test, pred)\n",
    "f1Score1model= f1_score(y_test, pred)\n",
    "\n",
    "accuracyScore1model"
   ]
  },
  {
   "cell_type": "code",
   "execution_count": 27,
   "id": "8a34c0de",
   "metadata": {},
   "outputs": [
    {
     "name": "stdout",
     "output_type": "stream",
     "text": [
      "              precision    recall  f1-score   support\n",
      "\n",
      "           0       1.00      1.00      1.00     84993\n",
      "           1       0.86      0.61      0.71       125\n",
      "\n",
      "    accuracy                           1.00     85118\n",
      "   macro avg       0.93      0.80      0.86     85118\n",
      "weighted avg       1.00      1.00      1.00     85118\n",
      "\n"
     ]
    }
   ],
   "source": [
    "print(classification_report(y_test, pred))"
   ]
  },
  {
   "cell_type": "code",
   "execution_count": null,
   "id": "d9662fc3",
   "metadata": {},
   "outputs": [],
   "source": []
  },
  {
   "cell_type": "markdown",
   "id": "21f9467d",
   "metadata": {},
   "source": [
    "##  Buidling the Model using Undersampling"
   ]
  },
  {
   "cell_type": "code",
   "execution_count": 28,
   "id": "69582a40",
   "metadata": {},
   "outputs": [],
   "source": [
    "# lets Perform Undersampling for our data\n",
    "nonFraudData = credFraudDF1[credFraudDF1['Class']==0] # assigning all the Non Fraud data to the variable\n",
    "fraudData = credFraudDF1[credFraudDF1['Class']==1] # assigning all the  Fraud data to the variable"
   ]
  },
  {
   "cell_type": "code",
   "execution_count": 29,
   "id": "4d75104a",
   "metadata": {},
   "outputs": [
    {
     "data": {
      "text/plain": [
       "(283253, 31)"
      ]
     },
     "execution_count": 29,
     "metadata": {},
     "output_type": "execute_result"
    }
   ],
   "source": [
    "nonFraudData.shape"
   ]
  },
  {
   "cell_type": "code",
   "execution_count": 30,
   "id": "cd5b30f4",
   "metadata": {},
   "outputs": [
    {
     "data": {
      "text/plain": [
       "(473, 31)"
      ]
     },
     "execution_count": 30,
     "metadata": {},
     "output_type": "execute_result"
    }
   ],
   "source": [
    "fraudData.shape"
   ]
  },
  {
   "cell_type": "code",
   "execution_count": 31,
   "id": "6ab016e6",
   "metadata": {},
   "outputs": [],
   "source": [
    "mynormalSample = nonFraudData.sample(n=473)  # lets the Create the data equal to fraudData shape out of the main data"
   ]
  },
  {
   "cell_type": "code",
   "execution_count": 32,
   "id": "61990523",
   "metadata": {},
   "outputs": [
    {
     "data": {
      "text/plain": [
       "(473, 31)"
      ]
     },
     "execution_count": 32,
     "metadata": {},
     "output_type": "execute_result"
    }
   ],
   "source": [
    "mynormalSample.shape "
   ]
  },
  {
   "cell_type": "code",
   "execution_count": 33,
   "id": "1c9e003d",
   "metadata": {},
   "outputs": [],
   "source": [
    "underSampleData = pd.concat([mynormalSample,fraudData], ignore_index=True)"
   ]
  },
  {
   "cell_type": "code",
   "execution_count": 34,
   "id": "53029e75",
   "metadata": {},
   "outputs": [
    {
     "data": {
      "text/html": [
       "<div>\n",
       "<style scoped>\n",
       "    .dataframe tbody tr th:only-of-type {\n",
       "        vertical-align: middle;\n",
       "    }\n",
       "\n",
       "    .dataframe tbody tr th {\n",
       "        vertical-align: top;\n",
       "    }\n",
       "\n",
       "    .dataframe thead th {\n",
       "        text-align: right;\n",
       "    }\n",
       "</style>\n",
       "<table border=\"1\" class=\"dataframe\">\n",
       "  <thead>\n",
       "    <tr style=\"text-align: right;\">\n",
       "      <th></th>\n",
       "      <th>Time</th>\n",
       "      <th>V1</th>\n",
       "      <th>V2</th>\n",
       "      <th>V3</th>\n",
       "      <th>V4</th>\n",
       "      <th>V5</th>\n",
       "      <th>V6</th>\n",
       "      <th>V7</th>\n",
       "      <th>V8</th>\n",
       "      <th>V9</th>\n",
       "      <th>...</th>\n",
       "      <th>V21</th>\n",
       "      <th>V22</th>\n",
       "      <th>V23</th>\n",
       "      <th>V24</th>\n",
       "      <th>V25</th>\n",
       "      <th>V26</th>\n",
       "      <th>V27</th>\n",
       "      <th>V28</th>\n",
       "      <th>Amount</th>\n",
       "      <th>Class</th>\n",
       "    </tr>\n",
       "  </thead>\n",
       "  <tbody>\n",
       "    <tr>\n",
       "      <th>0</th>\n",
       "      <td>97442.0</td>\n",
       "      <td>1.001206</td>\n",
       "      <td>-0.444703</td>\n",
       "      <td>-0.798369</td>\n",
       "      <td>-0.402176</td>\n",
       "      <td>1.094037</td>\n",
       "      <td>3.053709</td>\n",
       "      <td>-1.318960</td>\n",
       "      <td>0.896144</td>\n",
       "      <td>2.287089</td>\n",
       "      <td>...</td>\n",
       "      <td>-0.157833</td>\n",
       "      <td>-0.076612</td>\n",
       "      <td>0.584785</td>\n",
       "      <td>1.105337</td>\n",
       "      <td>-1.122864</td>\n",
       "      <td>0.960009</td>\n",
       "      <td>-0.051939</td>\n",
       "      <td>-0.150747</td>\n",
       "      <td>15.95</td>\n",
       "      <td>0</td>\n",
       "    </tr>\n",
       "    <tr>\n",
       "      <th>1</th>\n",
       "      <td>76926.0</td>\n",
       "      <td>-0.502007</td>\n",
       "      <td>0.912910</td>\n",
       "      <td>0.801541</td>\n",
       "      <td>0.402472</td>\n",
       "      <td>0.332823</td>\n",
       "      <td>-0.209994</td>\n",
       "      <td>0.889146</td>\n",
       "      <td>-0.440463</td>\n",
       "      <td>0.300640</td>\n",
       "      <td>...</td>\n",
       "      <td>0.025884</td>\n",
       "      <td>0.850544</td>\n",
       "      <td>-0.291788</td>\n",
       "      <td>0.135821</td>\n",
       "      <td>-0.481961</td>\n",
       "      <td>-0.775469</td>\n",
       "      <td>-0.222116</td>\n",
       "      <td>-0.288201</td>\n",
       "      <td>8.00</td>\n",
       "      <td>0</td>\n",
       "    </tr>\n",
       "    <tr>\n",
       "      <th>2</th>\n",
       "      <td>77440.0</td>\n",
       "      <td>-0.303567</td>\n",
       "      <td>-0.556016</td>\n",
       "      <td>1.017015</td>\n",
       "      <td>-1.465967</td>\n",
       "      <td>-0.941918</td>\n",
       "      <td>-1.027078</td>\n",
       "      <td>0.061555</td>\n",
       "      <td>-0.182965</td>\n",
       "      <td>-2.149068</td>\n",
       "      <td>...</td>\n",
       "      <td>0.047147</td>\n",
       "      <td>0.159953</td>\n",
       "      <td>0.590242</td>\n",
       "      <td>1.415390</td>\n",
       "      <td>-0.763669</td>\n",
       "      <td>-0.944133</td>\n",
       "      <td>0.240982</td>\n",
       "      <td>0.520367</td>\n",
       "      <td>131.67</td>\n",
       "      <td>0</td>\n",
       "    </tr>\n",
       "    <tr>\n",
       "      <th>3</th>\n",
       "      <td>165136.0</td>\n",
       "      <td>1.036111</td>\n",
       "      <td>0.038775</td>\n",
       "      <td>-1.072331</td>\n",
       "      <td>0.249078</td>\n",
       "      <td>0.233692</td>\n",
       "      <td>-0.510260</td>\n",
       "      <td>0.033294</td>\n",
       "      <td>-0.053560</td>\n",
       "      <td>0.295406</td>\n",
       "      <td>...</td>\n",
       "      <td>-0.425945</td>\n",
       "      <td>-1.177216</td>\n",
       "      <td>0.574944</td>\n",
       "      <td>1.075463</td>\n",
       "      <td>-0.644748</td>\n",
       "      <td>0.300452</td>\n",
       "      <td>-0.178613</td>\n",
       "      <td>-0.122471</td>\n",
       "      <td>1.79</td>\n",
       "      <td>0</td>\n",
       "    </tr>\n",
       "    <tr>\n",
       "      <th>4</th>\n",
       "      <td>122825.0</td>\n",
       "      <td>-0.635543</td>\n",
       "      <td>-0.236589</td>\n",
       "      <td>1.582067</td>\n",
       "      <td>-0.782898</td>\n",
       "      <td>0.138650</td>\n",
       "      <td>0.152728</td>\n",
       "      <td>0.289081</td>\n",
       "      <td>0.121588</td>\n",
       "      <td>0.245370</td>\n",
       "      <td>...</td>\n",
       "      <td>0.153099</td>\n",
       "      <td>0.135418</td>\n",
       "      <td>-0.151528</td>\n",
       "      <td>-0.829680</td>\n",
       "      <td>0.680823</td>\n",
       "      <td>0.810893</td>\n",
       "      <td>-0.558116</td>\n",
       "      <td>-0.495073</td>\n",
       "      <td>117.71</td>\n",
       "      <td>0</td>\n",
       "    </tr>\n",
       "  </tbody>\n",
       "</table>\n",
       "<p>5 rows × 31 columns</p>\n",
       "</div>"
      ],
      "text/plain": [
       "       Time        V1        V2        V3        V4        V5        V6  \\\n",
       "0   97442.0  1.001206 -0.444703 -0.798369 -0.402176  1.094037  3.053709   \n",
       "1   76926.0 -0.502007  0.912910  0.801541  0.402472  0.332823 -0.209994   \n",
       "2   77440.0 -0.303567 -0.556016  1.017015 -1.465967 -0.941918 -1.027078   \n",
       "3  165136.0  1.036111  0.038775 -1.072331  0.249078  0.233692 -0.510260   \n",
       "4  122825.0 -0.635543 -0.236589  1.582067 -0.782898  0.138650  0.152728   \n",
       "\n",
       "         V7        V8        V9  ...       V21       V22       V23       V24  \\\n",
       "0 -1.318960  0.896144  2.287089  ... -0.157833 -0.076612  0.584785  1.105337   \n",
       "1  0.889146 -0.440463  0.300640  ...  0.025884  0.850544 -0.291788  0.135821   \n",
       "2  0.061555 -0.182965 -2.149068  ...  0.047147  0.159953  0.590242  1.415390   \n",
       "3  0.033294 -0.053560  0.295406  ... -0.425945 -1.177216  0.574944  1.075463   \n",
       "4  0.289081  0.121588  0.245370  ...  0.153099  0.135418 -0.151528 -0.829680   \n",
       "\n",
       "        V25       V26       V27       V28  Amount  Class  \n",
       "0 -1.122864  0.960009 -0.051939 -0.150747   15.95      0  \n",
       "1 -0.481961 -0.775469 -0.222116 -0.288201    8.00      0  \n",
       "2 -0.763669 -0.944133  0.240982  0.520367  131.67      0  \n",
       "3 -0.644748  0.300452 -0.178613 -0.122471    1.79      0  \n",
       "4  0.680823  0.810893 -0.558116 -0.495073  117.71      0  \n",
       "\n",
       "[5 rows x 31 columns]"
      ]
     },
     "execution_count": 34,
     "metadata": {},
     "output_type": "execute_result"
    }
   ],
   "source": [
    "underSampleData.head()"
   ]
  },
  {
   "cell_type": "code",
   "execution_count": 35,
   "id": "5f5ec1c3",
   "metadata": {},
   "outputs": [
    {
     "data": {
      "text/plain": [
       "Class\n",
       "0    473\n",
       "1    473\n",
       "Name: count, dtype: int64"
      ]
     },
     "execution_count": 35,
     "metadata": {},
     "output_type": "execute_result"
    }
   ],
   "source": [
    "underSampleData['Class'].value_counts() # Both the class are equal now"
   ]
  },
  {
   "cell_type": "code",
   "execution_count": 36,
   "id": "1baec379",
   "metadata": {},
   "outputs": [],
   "source": [
    "X = underSampleData.drop('Class', axis = 1)\n",
    "y= underSampleData['Class']"
   ]
  },
  {
   "cell_type": "code",
   "execution_count": 37,
   "id": "25b0d9cd",
   "metadata": {},
   "outputs": [],
   "source": [
    "X_train, X_test, y_train, y_test = train_test_split(X, y, test_size = 0.2, random_state = 42)"
   ]
  },
  {
   "cell_type": "markdown",
   "id": "37ebe622",
   "metadata": {},
   "source": [
    "## 2nd Model performance"
   ]
  },
  {
   "cell_type": "code",
   "execution_count": 38,
   "id": "b92e05c2",
   "metadata": {},
   "outputs": [
    {
     "name": "stdout",
     "output_type": "stream",
     "text": [
      "Under Sample performance measures:\n",
      "\n",
      " Accuaracy - Test Data : 0.9473684210526315\n",
      "\n",
      " Precision - Test Data : 0.9893617021276596\n",
      "\n",
      " Recall  - Test Data : 0.9117647058823529\n",
      "\n",
      " F1 Score  - Test Data : 0.9489795918367347\n"
     ]
    }
   ],
   "source": [
    "# Lets run the 2nd Model and get classification Report - Model performance measures for undersampling\n",
    "print(\"Under Sample performance measures:\")\n",
    "pred = RunModel(lr, X_train, y_train, X_test, y_test)"
   ]
  },
  {
   "cell_type": "code",
   "execution_count": 39,
   "id": "66f87d33",
   "metadata": {},
   "outputs": [
    {
     "data": {
      "text/plain": [
       "0.9473684210526315"
      ]
     },
     "execution_count": 39,
     "metadata": {},
     "output_type": "execute_result"
    }
   ],
   "source": [
    "# Testing and saving the accuracy score of the 1st Model\n",
    "accuracy_score(y_test, pred)\n",
    "\n",
    "accuracyScore2ndmodel= accuracy_score(y_test, pred)\n",
    "f1Score2ndmodel= f1_score(y_test, pred)\n",
    "accuracyScore2ndmodel"
   ]
  },
  {
   "cell_type": "code",
   "execution_count": 40,
   "id": "b8399be3",
   "metadata": {},
   "outputs": [
    {
     "data": {
      "image/png": "[encoded data removed]",
      "text/plain": [
       "<Figure size 500x400 with 1 Axes>"
      ]
     },
     "metadata": {},
     "output_type": "display_data"
    }
   ],
   "source": [
    "# Compute confusion matrix\n",
    "cnfsnMatrx = confusion_matrix(y_test, pred)\n",
    "\n",
    "# Lets plot the confusion matrix \n",
    "plt.figure(figsize=(5, 4))\n",
    "sns.heatmap(cnfsnMatrx, annot=True, fmt='d', cbar=False, annot_kws={\"fontsize\": 14})\n",
    "plt.xlabel('Predicted labels')\n",
    "plt.ylabel('True labels')\n",
    "plt.title('Confusion Matrix')\n",
    "plt.show()\n",
    "\n",
    "\n",
    "# The Confusion Matrix looks better after undersampling"
   ]
  },
  {
   "cell_type": "code",
   "execution_count": 41,
   "id": "cdded6a7",
   "metadata": {},
   "outputs": [
    {
     "name": "stdout",
     "output_type": "stream",
     "text": [
      "              precision    recall  f1-score   support\n",
      "\n",
      "           0       0.91      0.99      0.95        88\n",
      "           1       0.99      0.91      0.95       102\n",
      "\n",
      "    accuracy                           0.95       190\n",
      "   macro avg       0.95      0.95      0.95       190\n",
      "weighted avg       0.95      0.95      0.95       190\n",
      "\n"
     ]
    }
   ],
   "source": [
    "print(classification_report(y_test, pred))"
   ]
  },
  {
   "cell_type": "markdown",
   "id": "02fdc0ec",
   "metadata": {},
   "source": [
    "## OVERSAMPLING"
   ]
  },
  {
   "cell_type": "code",
   "execution_count": 42,
   "id": "95024071",
   "metadata": {},
   "outputs": [
    {
     "name": "stdout",
     "output_type": "stream",
     "text": [
      "Class\n",
      "0    283253\n",
      "1    283253\n",
      "Name: count, dtype: int64\n"
     ]
    }
   ],
   "source": [
    "from sklearn.utils import resample\n",
    "# Separate majority and minority classes\n",
    "majoritynonFraud_class = credFraudDF1[credFraudDF1['Class'] == 0]\n",
    "minorityFraud_class = credFraudDF1[credFraudDF1['Class'] == 1]\n",
    "\n",
    "# Upsample minority class\n",
    "nonFraud_Oversampled = resample(minorityFraud_class,\n",
    "                               replace=True,  # sample with replacement\n",
    "                               n_samples=len(majoritynonFraud_class),  # to match majority class\n",
    "                               random_state=42)  # reproducible results\n",
    "\n",
    "# Combine majority class with upsampled minority class\n",
    "OverSampled_DF = pd.concat([majoritynonFraud_class, nonFraud_Oversampled])\n",
    "\n",
    "# Display class counts\n",
    "print(OverSampled_DF['Class'].value_counts())"
   ]
  },
  {
   "cell_type": "code",
   "execution_count": 43,
   "id": "f3c29f46",
   "metadata": {},
   "outputs": [],
   "source": [
    "X = OverSampled_DF.drop('Class', axis = 1)\n",
    "y= OverSampled_DF['Class']"
   ]
  },
  {
   "cell_type": "code",
   "execution_count": 44,
   "id": "25547a65",
   "metadata": {},
   "outputs": [],
   "source": [
    "X_train, X_test, y_train, y_test = train_test_split(X, y, test_size = 0.2, random_state = 42)\n"
   ]
  },
  {
   "cell_type": "markdown",
   "id": "66705885",
   "metadata": {},
   "source": [
    "## 3rd Model performance - Over sampling"
   ]
  },
  {
   "cell_type": "code",
   "execution_count": 45,
   "id": "7295d067",
   "metadata": {},
   "outputs": [
    {
     "name": "stdout",
     "output_type": "stream",
     "text": [
      "Over Sample performance measures:\n",
      "\n",
      " Accuaracy - Test Data : 0.9441227868881397\n",
      "\n",
      " Precision - Test Data : 0.9675263362523837\n",
      "\n",
      " Recall  - Test Data : 0.9194700541910057\n",
      "\n",
      " F1 Score  - Test Data : 0.942886268707882\n"
     ]
    }
   ],
   "source": [
    "# Lets run the 3rd Model and get classification Report - Model performance measures for Oversampling\n",
    "print(\"Over Sample performance measures:\")\n",
    "pred = RunModel(lr, X_train, y_train, X_test, y_test)\n"
   ]
  },
  {
   "cell_type": "code",
   "execution_count": 46,
   "id": "789db012",
   "metadata": {},
   "outputs": [],
   "source": [
    "# Testing and saving the accuracy score of the 3rd Model\n",
    "accuracy_score(y_test, pred)\n",
    "\n",
    "accuracyScore3rdmodel= accuracy_score(y_test, pred)\n",
    "f1Score3rdmodel= f1_score(y_test, pred)"
   ]
  },
  {
   "cell_type": "code",
   "execution_count": 47,
   "id": "a3287448",
   "metadata": {},
   "outputs": [
    {
     "data": {
      "image/png": "[encoded data removed]",
      "text/plain": [
       "<Figure size 600x400 with 1 Axes>"
      ]
     },
     "metadata": {},
     "output_type": "display_data"
    }
   ],
   "source": [
    "# Compute confusion matrix\n",
    "cnfsnMatrx = confusion_matrix(y_test, pred)\n",
    "\n",
    "# Lets plot the confusion matrix \n",
    "plt.figure(figsize=(6, 4))\n",
    "sns.heatmap(cnfsnMatrx, annot=True, fmt='d', cmap='icefire', cbar=False)\n",
    "plt.xlabel('Predicted labels')\n",
    "plt.ylabel('True labels')\n",
    "plt.title('Confusion Matrix')\n",
    "plt.show()\n"
   ]
  },
  {
   "cell_type": "code",
   "execution_count": 48,
   "id": "f88638a0",
   "metadata": {},
   "outputs": [
    {
     "name": "stdout",
     "output_type": "stream",
     "text": [
      "              precision    recall  f1-score   support\n",
      "\n",
      "           0       0.92      0.97      0.95     56466\n",
      "           1       0.97      0.92      0.94     56836\n",
      "\n",
      "    accuracy                           0.94    113302\n",
      "   macro avg       0.95      0.94      0.94    113302\n",
      "weighted avg       0.95      0.94      0.94    113302\n",
      "\n"
     ]
    }
   ],
   "source": [
    "print(classification_report(y_test, pred))"
   ]
  },
  {
   "cell_type": "markdown",
   "id": "a3c727bb",
   "metadata": {},
   "source": [
    "## Over Sampling using Smote"
   ]
  },
  {
   "cell_type": "code",
   "execution_count": 53,
   "id": "055515bc",
   "metadata": {},
   "outputs": [],
   "source": [
    "X = credFraudDF1.drop('Class', axis = 1) # diving the datasets for SMOTE\n",
    "y= credFraudDF1['Class'] "
   ]
  },
  {
   "cell_type": "code",
   "execution_count": 54,
   "id": "67434a87",
   "metadata": {},
   "outputs": [
    {
     "data": {
      "text/plain": [
       "(283726, 30)"
      ]
     },
     "execution_count": 54,
     "metadata": {},
     "output_type": "execute_result"
    }
   ],
   "source": [
    "X.shape"
   ]
  },
  {
   "cell_type": "code",
   "execution_count": 55,
   "id": "c55e4c8b",
   "metadata": {},
   "outputs": [
    {
     "data": {
      "text/plain": [
       "(283726,)"
      ]
     },
     "execution_count": 55,
     "metadata": {},
     "output_type": "execute_result"
    }
   ],
   "source": [
    "y.shape"
   ]
  },
  {
   "cell_type": "code",
   "execution_count": 56,
   "id": "f3ad8326",
   "metadata": {},
   "outputs": [],
   "source": [
    "from imblearn.over_sampling import SMOTE"
   ]
  },
  {
   "cell_type": "code",
   "execution_count": 57,
   "id": "9d00641f",
   "metadata": {},
   "outputs": [],
   "source": [
    "X_smote, y_smote = SMOTE().fit_resample(X,y)"
   ]
  },
  {
   "cell_type": "code",
   "execution_count": 58,
   "id": "4810133e",
   "metadata": {},
   "outputs": [
    {
     "data": {
      "text/plain": [
       "Class\n",
       "0    283253\n",
       "1    283253\n",
       "Name: count, dtype: int64"
      ]
     },
     "execution_count": 58,
     "metadata": {},
     "output_type": "execute_result"
    }
   ],
   "source": [
    "y_smote.value_counts()"
   ]
  },
  {
   "cell_type": "code",
   "execution_count": 59,
   "id": "a835417a",
   "metadata": {},
   "outputs": [],
   "source": [
    "X_train, X_test, y_train, y_test = train_test_split(X_smote, y_smote, test_size = 0.2, random_state = 42)"
   ]
  },
  {
   "cell_type": "markdown",
   "id": "612582d1",
   "metadata": {},
   "source": [
    "## 4th Model performance - smote"
   ]
  },
  {
   "cell_type": "code",
   "execution_count": 60,
   "id": "3bf74d8f",
   "metadata": {},
   "outputs": [
    {
     "name": "stdout",
     "output_type": "stream",
     "text": [
      "SMOTE - Over Sampling performance measures:\n",
      "\n",
      " Accuaracy - Test Data : 0.9756756279677322\n",
      "\n",
      " Precision - Test Data : 0.9867343449070324\n",
      "\n",
      " Recall  - Test Data : 0.964478615035451\n",
      "\n",
      " F1 Score  - Test Data : 0.9754795544325421\n"
     ]
    }
   ],
   "source": [
    "# Lets run the 4th Model and get classification Report - Model performance measures for Oversampling\n",
    "print(\"SMOTE - Over Sampling performance measures:\")\n",
    "pred = RunModel(lr, X_train, y_train, X_test, y_test)\n"
   ]
  },
  {
   "cell_type": "code",
   "execution_count": 61,
   "id": "2555da13",
   "metadata": {},
   "outputs": [],
   "source": [
    "# Testing and saving the accuracy score of the 3rd Model\n",
    "accuracy_score(y_test, pred)\n",
    "\n",
    "accuracyScore4thmodel= accuracy_score(y_test, pred)\n",
    "accuracyScore4thmodel\n",
    "f1Score4thmodel= f1_score(y_test, pred)"
   ]
  },
  {
   "cell_type": "code",
   "execution_count": 62,
   "id": "e3072537",
   "metadata": {},
   "outputs": [
    {
     "data": {
      "image/png": "[encoded data removed]",
      "text/plain": [
       "<Figure size 500x400 with 1 Axes>"
      ]
     },
     "metadata": {},
     "output_type": "display_data"
    }
   ],
   "source": [
    "# Compute confusion matrix\n",
    "cnfsnMatrx = confusion_matrix(y_test, pred)\n",
    "\n",
    "# Lets plot the confusion matrix \n",
    "plt.figure(figsize=(5, 4))\n",
    "sns.heatmap(cnfsnMatrx, annot=True, fmt='d', cmap='gist_ncar_r', cbar=False,annot_kws={\"fontsize\": 14})\n",
    "plt.xlabel('Predicted labels',fontsize=14)\n",
    "plt.ylabel('True labels',fontsize=14)\n",
    "plt.title('Confusion Matrix for SMOTE',fontsize=16)\n",
    "\n",
    "plt.show()\n"
   ]
  },
  {
   "cell_type": "code",
   "execution_count": 63,
   "id": "f4419ec3",
   "metadata": {},
   "outputs": [
    {
     "name": "stdout",
     "output_type": "stream",
     "text": [
      "              precision    recall  f1-score   support\n",
      "\n",
      "           0       0.97      0.99      0.98     56463\n",
      "           1       0.99      0.96      0.98     56839\n",
      "\n",
      "    accuracy                           0.98    113302\n",
      "   macro avg       0.98      0.98      0.98    113302\n",
      "weighted avg       0.98      0.98      0.98    113302\n",
      "\n"
     ]
    }
   ],
   "source": [
    "print(classification_report(y_test, pred))"
   ]
  },
  {
   "cell_type": "markdown",
   "id": "28dfdefa",
   "metadata": {},
   "source": [
    "# Score Using other Algorithms"
   ]
  },
  {
   "cell_type": "code",
   "execution_count": 64,
   "id": "9dd0cd9e",
   "metadata": {},
   "outputs": [],
   "source": [
    "# Score Using other Algorithms"
   ]
  },
  {
   "cell_type": "code",
   "execution_count": null,
   "id": "a8102955",
   "metadata": {},
   "outputs": [],
   "source": []
  },
  {
   "cell_type": "code",
   "execution_count": 75,
   "id": "0bd6b89b",
   "metadata": {
    "scrolled": false
   },
   "outputs": [
    {
     "data": {
      "text/plain": [
       "{'LR UNDR_SMPL': 0.9489795918367347,\n",
       " 'LR OVER_SMP': 0.942886268707882,\n",
       " 'SMOLT-OVR_SMPL': 0.9754795544325421}"
      ]
     },
     "execution_count": 75,
     "metadata": {},
     "output_type": "execute_result"
    }
   ],
   "source": [
    "accuracies = {}\n",
    "f1Scores = {}\n",
    "\n",
    "# Saving all the scores in a dict to visualise it\n",
    "# f1Scores['LR Orgnal Data'] = accuracyScore1model\n",
    "accuracies['LR UNDR_SMPL'] = accuracyScore2ndmodel\n",
    "accuracies['LR OVER_SMPL'] = accuracyScore3rdmodel\n",
    "accuracies['SMOLT-OVR_SMPL'] = accuracyScore4thmodel\n",
    "accuraciesCopy = accuracies.copy()\n",
    "# f1Scores['LR Orgnal Data'] = f1Score1model\n",
    "f1Scores['LR UNDR_SMPL'] = f1Score2ndmodel\n",
    "f1Scores['LR OVER_SMP'] = f1Score3rdmodel\n",
    "f1Scores['SMOLT-OVR_SMPL'] = f1Score4thmodel\n",
    "\n",
    "f1Scores"
   ]
  },
  {
   "cell_type": "code",
   "execution_count": 76,
   "id": "6f3d0b98",
   "metadata": {},
   "outputs": [
    {
     "name": "stdout",
     "output_type": "stream",
     "text": [
      "\n",
      "The evaluation measures for Decision Tree Classifier :\n",
      "\n",
      " Accuracy: 0.9985701929356939\n",
      " Precision: 0.9977517432771854\n",
      " Recall: 0.9994018191734548\n",
      " F1 Score: 0.9985760995675562\n",
      "\n",
      " Confusion Matrix:\n",
      "[[56335   128]\n",
      " [   34 56805]]\n",
      "\n",
      " Classification Report:\n",
      "              precision    recall  f1-score   support\n",
      "\n",
      "           0       1.00      1.00      1.00     56463\n",
      "           1       1.00      1.00      1.00     56839\n",
      "\n",
      "    accuracy                           1.00    113302\n",
      "   macro avg       1.00      1.00      1.00    113302\n",
      "weighted avg       1.00      1.00      1.00    113302\n",
      "\n",
      "\n",
      "The evaluation measures for Random Forest Classifier :\n",
      "\n",
      " Accuracy: 0.9999029143351397\n",
      " Precision: 0.999806508355321\n",
      " Recall: 1.0\n",
      " F1 Score: 0.9999032448170008\n",
      "\n",
      " Confusion Matrix:\n",
      "[[56452    11]\n",
      " [    0 56839]]\n",
      "\n",
      " Classification Report:\n",
      "              precision    recall  f1-score   support\n",
      "\n",
      "           0       1.00      1.00      1.00     56463\n",
      "           1       1.00      1.00      1.00     56839\n",
      "\n",
      "    accuracy                           1.00    113302\n",
      "   macro avg       1.00      1.00      1.00    113302\n",
      "weighted avg       1.00      1.00      1.00    113302\n",
      "\n",
      "\n",
      "The evaluation measures for Voting Classifier :\n",
      "\n",
      " Accuracy: 0.9996204833100916\n",
      " Precision: 0.9998591846792931\n",
      " Recall: 0.999384225619733\n",
      " F1 Score: 0.9996216487316434\n",
      "\n",
      " Confusion Matrix:\n",
      "[[56455     8]\n",
      " [   35 56804]]\n",
      "\n",
      " Classification Report:\n",
      "              precision    recall  f1-score   support\n",
      "\n",
      "           0       1.00      1.00      1.00     56463\n",
      "           1       1.00      1.00      1.00     56839\n",
      "\n",
      "    accuracy                           1.00    113302\n",
      "   macro avg       1.00      1.00      1.00    113302\n",
      "weighted avg       1.00      1.00      1.00    113302\n",
      "\n"
     ]
    }
   ],
   "source": [
    "# Lets evaluate the modle with decsion and random tree regressions as well and\n",
    "# Lets save all the scores in the accuracies dictnory \n",
    "classifier = {\n",
    "    \"Decision Tree Classifier\": DecisionTreeClassifier(),\n",
    "    \"Random Forest Classifier\": RandomForestClassifier(),\n",
    "     \"Voting Classifier\": VotingClassifier(estimators=[\n",
    "        ('dt', DecisionTreeClassifier()),\n",
    "        ('rf', RandomForestClassifier())\n",
    "    ], voting='hard')\n",
    "}\n",
    "\n",
    "for name, clf in classifier.items():\n",
    "    print(f\"\\nThe evaluation measures for {name} :\")\n",
    "    clf.fit(X_train, y_train)\n",
    "    y_pred = clf.predict(X_test)\n",
    "    \n",
    "    if(name =='Random Forest Classifier'):\n",
    "        name ='Random_Fr'\n",
    "        \n",
    "    if (name =='Decision Tree Classifier'):\n",
    "        name ='DC_Tree'\n",
    "        \n",
    "    \n",
    "    # Here down we have a Evaluation Metrics\n",
    "    accuracy = accuracy_score(y_test, y_pred)\n",
    "    \n",
    "    \n",
    "    precision = precision_score(y_test, y_pred)\n",
    "    recall = recall_score(y_test, y_pred)\n",
    "    f1 = f1_score(y_test, y_pred)\n",
    "    \n",
    "    if name != 'Voting Classifier':\n",
    "        f1Scores[name] = f1\n",
    "        accuracies[name] = accuracy\n",
    "        \n",
    "    print(f\"\\n Accuracy: {accuracy}\")\n",
    "    print(f\" Precision: {precision}\")\n",
    "    print(f\" Recall: {recall}\")\n",
    "    print(f\" F1 Score: {f1}\")\n",
    "    \n",
    "    # Confusion Matrix\n",
    "    print(\"\\n Confusion Matrix:\")\n",
    "    print(confusion_matrix(y_test, y_pred))\n",
    "    \n",
    "    # Classification Report\n",
    "    print(\"\\n Classification Report:\")\n",
    "    print(classification_report(y_test, y_pred))\n",
    "    \n",
    "    \n"
   ]
  },
  {
   "cell_type": "code",
   "execution_count": 77,
   "id": "73b8210d",
   "metadata": {},
   "outputs": [
    {
     "name": "stdout",
     "output_type": "stream",
     "text": [
      "Model Accuracies:\n",
      "LR UNDR_SMPL: 0.9474\n",
      "LR OVER_SMPL: 0.9441\n",
      "SMOLT-OVR_SMPL: 0.9757\n",
      "DC_Tree: 0.9986\n",
      "Random_Fr: 0.9999\n"
     ]
    }
   ],
   "source": [
    "from sklearn.metrics import accuracy_score\n",
    "#  Looping through dictn to proint the all model accuracies\n",
    "print(\"Model Accuracies:\")\n",
    "for name, accuracy in accuracies.items():\n",
    "    print(f\"{name}: {accuracy:.4f}\")"
   ]
  },
  {
   "cell_type": "code",
   "execution_count": 92,
   "id": "8f4cfb82",
   "metadata": {},
   "outputs": [
    {
     "data": {
      "image/png": "[encoded data removed]",
      "text/plain": [
       "<Figure size 1500x700 with 1 Axes>"
      ]
     },
     "metadata": {},
     "output_type": "display_data"
    }
   ],
   "source": [
    "# Below are model names and accuracy scores\n",
    "FDmodelNames = list(accuracies.keys())\n",
    "FDaccuracyScores = list(accuracies.values())\n",
    "\n",
    "\n",
    "# Plot a bar graph to visulise the accuracy scores\n",
    "plt.figure(figsize=(15, 7))\n",
    "plt.bar(FDmodelNames, FDaccuracyScores, color='teal')\n",
    "plt.xlabel('Models', fontsize=16)\n",
    "plt.ylabel('Accuracy', fontsize=18)\n",
    "plt.title('Accuracy of Different Models', fontsize=16)\n",
    "plt.ylim(0.92, 1)  # Set y-axis limits to better visualize differences\n",
    "plt.xticks(rotation=0, fontsize=17) \n",
    "plt.yticks(rotation=0, fontsize=17)\n",
    "plt.show()"
   ]
  },
  {
   "cell_type": "code",
   "execution_count": 91,
   "id": "514a3589",
   "metadata": {},
   "outputs": [
    {
     "data": {
      "image/png": "[encoded data removed]",
      "text/plain": [
       "<Figure size 1500x700 with 1 Axes>"
      ]
     },
     "metadata": {},
     "output_type": "display_data"
    }
   ],
   "source": [
    "f1Scores\n",
    "\n",
    "# we have\n",
    "FDmodelNames = list(f1Scores.keys())\n",
    "FDF1Scores = list(f1Scores.values())\n",
    "\n",
    "# Plot a bar graph to visulise the F1 scores\n",
    "plt.figure(figsize=(15, 7))\n",
    "plt.bar(FDmodelNames, FDF1Scores, color='skyblue')\n",
    "plt.xlabel('Models', fontsize=16)\n",
    "plt.ylabel('Accuracy', fontsize=16)\n",
    "plt.title('F1 Score of Different Models', fontsize=16)\n",
    "plt.ylim(0.92, 1)  # Set y-axis limits to better visualize differences\n",
    "plt.xticks(rotation=0, fontsize=17) \n",
    "plt.yticks(rotation=0, fontsize=17)\n",
    "plt.show()"
   ]
  },
  {
   "cell_type": "code",
   "execution_count": null,
   "id": "f6a69b8e",
   "metadata": {},
   "outputs": [],
   "source": []
  }
 ],
 "metadata": {
  "kernelspec": {
   "display_name": "myKernal2",
   "language": "python",
   "name": "mykernal2"
  },
  "language_info": {
   "codemirror_mode": {
    "name": "ipython",
    "version": 3
   },
   "file_extension": ".py",
   "mimetype": "text/x-python",
   "name": "python",
   "nbconvert_exporter": "python",
   "pygments_lexer": "ipython3",
   "version": "3.11.5"
  }
 },
 "nbformat": 4,
 "nbformat_minor": 5
}
